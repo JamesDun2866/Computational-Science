{
 "cells": [
  {
   "cell_type": "markdown",
   "metadata": {},
   "source": [
    "# Computational Science"
   ]
  },
  {
   "cell_type": "markdown",
   "metadata": {},
   "source": [
    "## Imports "
   ]
  },
  {
   "cell_type": "code",
   "execution_count": 1,
   "metadata": {},
   "outputs": [],
   "source": [
    "import pandas as pd #Import Pandas for Dataframes\n",
    "import seaborn as sns #Import Seaborn for Graphs\n",
    "import numpy as np #Import numpy for arrays\n",
    "import math # Import Math for Sqrt,cos and Sin\n",
    "import random # Import Random for Random Number Generation"
   ]
  },
  {
   "cell_type": "markdown",
   "metadata": {},
   "source": [
    "# Part 1: Simulating the Robot in 2D Space"
   ]
  },
  {
   "cell_type": "markdown",
   "metadata": {},
   "source": [
    "## Eulers Algorithm"
   ]
  },
  {
   "cell_type": "markdown",
   "metadata": {},
   "source": [
    "![Eulers](https://i.imgur.com/MPAQeOI.jpg)"
   ]
  },
  {
   "cell_type": "markdown",
   "metadata": {},
   "source": [
    "Eulers Algorithm is Used to calulate where the robot is in 2D Space given a set of co-ordinates, a max time and a step size. It calulates the position of x by performing F = -2x+2U Where U is the current step and x is the position. it does this for each step untill the max time is hit. This can then be plotted to give a location and path of the robot in 2D space. By solving the differential equations the robot can be tracked in the space. "
   ]
  },
  {
   "cell_type": "code",
   "execution_count": 76,
   "metadata": {
    "scrolled": false
   },
   "outputs": [],
   "source": [
    "def EulersEquation(U,x): # Eulers Equation  F = -2X+2U used to calulate the value of x in the full algorithm \n",
    "    f = -2*x +2*U #Performs the equation \n",
    "    return f # Returns the value\n",
    "   \n",
    "\n",
    "def IntergationCount (h,i): # Integration Count is used to calulate the difference between the Step size and the sample integral\n",
    "    OGStep = h # Sets the Original Step size to the value of the step size (this changes later so needs to be constant)\n",
    "    Count  = 0 # Set count varible to 0, This will be the difference\n",
    "    S = False # set Start to False \n",
    "    if (i == 0):  # if the Sample Integral is not set set S to True\n",
    "        S = True\n",
    "\n",
    "    while S == False: # If the sample integral is set calculate the difference\n",
    "        Count = Count + 1\n",
    "        if (Count*OGStep == i): #verify if integral size is the correct amount then shut the gate\n",
    "            S = True\n",
    "            \n",
    "    return Count #return the sample size\n",
    "\n",
    "def Eulers(a,b,h,T,i): #Take in XInit,YInit, Step Size, Time and Sample Intergal\n",
    "    df1 = pd.DataFrame({\"T\":[],\"X\":[],\"U\":[]}) #declare dataframe structure \n",
    "    t =a #Set Time at position 0, Can be higher based on inital Entry\n",
    "    x= b  # Set x at position 0, Can be higher based on inital Entry\n",
    "    Count = 0 #set count to 0 used in determing how many to print based on the sample size\n",
    "    \n",
    "    IntegrationCount = IntergationCount(h,i) #Calculate the sample size \n",
    "    \n",
    "    while t<T: #while Current time < initial time\n",
    "        if (t<0 or t<=5): #Set rotbot direction (U) based on where the time is\n",
    "            U = 2\n",
    "        elif (t<5 or t<=10):\n",
    "            U = 1\n",
    "        elif (t<10 or t<=15):\n",
    "            U =3\n",
    "    \n",
    "        k = h*EulersEquation(U,x) #perform equation stated in the method Eulers Eqation\n",
    "        x = x +k # add predition to the x value (Plotted later)\n",
    "        t = t+h #increase step for next result\n",
    "        Count = Count + 1 # increase count for integral\n",
    "        \n",
    "        if (Count >= IntegrationCount): # if the count is at the integral amount add to dataframe\n",
    "            df2 = pd.DataFrame({\"T\":[t],\"X\":[x],\"U\":[U]}) #get result of eulers in dataframe based on integral steps\n",
    "            df1 = df1.append(df2) #append to dataframe\n",
    "            Count = 0 #reset the count to 0\n",
    "            \n",
    "    df1.reset_index(inplace=True) # reset the index broken by appending 2 dataframes\n",
    "    df1 = df1.drop(columns=['index']) #drop the inital index column (Blank)\n",
    "    return df1 # return dataframe \n",
    "\n",
    "def Actual(U,t):\n",
    "    mathst = t*2\n",
    "    eqat = U - math.exp(-mathst)\n",
    "    return eqat\n",
    "\n",
    "def Actualplot(a,b,h,T): \n",
    "    dfActual = pd.DataFrame({\"T\":[],\"XActual\":[],\"U\":[]}) \n",
    "    t =a \n",
    "    x= b\n",
    "    \n",
    "    while t<T: \n",
    "        if (t<0 or t<=5):\n",
    "            U = 2\n",
    "        elif (t<5 or t<=10):\n",
    "            U = 1\n",
    "        elif (t<10 or t<=15):\n",
    "            U =3\n",
    "    \n",
    "        k = Actual(U,t) \n",
    "        t = t+h\n",
    "        \n",
    "        dfActual2 = pd.DataFrame({\"T\":[t],\"XActual\":[k],\"U\":[U]}) \n",
    "        dfActual = dfActual.append(dfActual2)\n",
    "            \n",
    "    dfActual.reset_index(inplace=True)\n",
    "    dfActual = dfActual.drop(columns=['index'])\n",
    "    return dfActual"
   ]
  },
  {
   "cell_type": "markdown",
   "metadata": {},
   "source": [
    "## Perform Eulers "
   ]
  },
  {
   "cell_type": "markdown",
   "metadata": {},
   "source": [
    "(Returns as Pandas Dataframe)"
   ]
  },
  {
   "cell_type": "code",
   "execution_count": 3,
   "metadata": {
    "scrolled": false
   },
   "outputs": [
    {
     "name": "stdout",
     "output_type": "stream",
     "text": [
      "Enter xInitial\n",
      "0\n",
      "Enter yInitial\n",
      "0\n",
      "Enter Step Size\n",
      "0.1\n",
      "Enter Time\n",
      "15\n",
      "Enter Sample Integral (To Print all put 0 )\n",
      "0\n"
     ]
    },
    {
     "data": {
      "text/html": [
       "<div>\n",
       "<style scoped>\n",
       "    .dataframe tbody tr th:only-of-type {\n",
       "        vertical-align: middle;\n",
       "    }\n",
       "\n",
       "    .dataframe tbody tr th {\n",
       "        vertical-align: top;\n",
       "    }\n",
       "\n",
       "    .dataframe thead th {\n",
       "        text-align: right;\n",
       "    }\n",
       "</style>\n",
       "<table border=\"1\" class=\"dataframe\">\n",
       "  <thead>\n",
       "    <tr style=\"text-align: right;\">\n",
       "      <th></th>\n",
       "      <th>T</th>\n",
       "      <th>X</th>\n",
       "      <th>U</th>\n",
       "    </tr>\n",
       "  </thead>\n",
       "  <tbody>\n",
       "    <tr>\n",
       "      <th>0</th>\n",
       "      <td>0.1</td>\n",
       "      <td>0.400000</td>\n",
       "      <td>2.0</td>\n",
       "    </tr>\n",
       "    <tr>\n",
       "      <th>1</th>\n",
       "      <td>0.2</td>\n",
       "      <td>0.720000</td>\n",
       "      <td>2.0</td>\n",
       "    </tr>\n",
       "    <tr>\n",
       "      <th>2</th>\n",
       "      <td>0.3</td>\n",
       "      <td>0.976000</td>\n",
       "      <td>2.0</td>\n",
       "    </tr>\n",
       "    <tr>\n",
       "      <th>3</th>\n",
       "      <td>0.4</td>\n",
       "      <td>1.180800</td>\n",
       "      <td>2.0</td>\n",
       "    </tr>\n",
       "    <tr>\n",
       "      <th>4</th>\n",
       "      <td>0.5</td>\n",
       "      <td>1.344640</td>\n",
       "      <td>2.0</td>\n",
       "    </tr>\n",
       "    <tr>\n",
       "      <th>...</th>\n",
       "      <td>...</td>\n",
       "      <td>...</td>\n",
       "      <td>...</td>\n",
       "    </tr>\n",
       "    <tr>\n",
       "      <th>146</th>\n",
       "      <td>14.7</td>\n",
       "      <td>2.999930</td>\n",
       "      <td>3.0</td>\n",
       "    </tr>\n",
       "    <tr>\n",
       "      <th>147</th>\n",
       "      <td>14.8</td>\n",
       "      <td>2.999944</td>\n",
       "      <td>3.0</td>\n",
       "    </tr>\n",
       "    <tr>\n",
       "      <th>148</th>\n",
       "      <td>14.9</td>\n",
       "      <td>2.999955</td>\n",
       "      <td>3.0</td>\n",
       "    </tr>\n",
       "    <tr>\n",
       "      <th>149</th>\n",
       "      <td>15.0</td>\n",
       "      <td>2.999964</td>\n",
       "      <td>3.0</td>\n",
       "    </tr>\n",
       "    <tr>\n",
       "      <th>150</th>\n",
       "      <td>15.1</td>\n",
       "      <td>2.999971</td>\n",
       "      <td>3.0</td>\n",
       "    </tr>\n",
       "  </tbody>\n",
       "</table>\n",
       "<p>151 rows × 3 columns</p>\n",
       "</div>"
      ],
      "text/plain": [
       "        T         X    U\n",
       "0     0.1  0.400000  2.0\n",
       "1     0.2  0.720000  2.0\n",
       "2     0.3  0.976000  2.0\n",
       "3     0.4  1.180800  2.0\n",
       "4     0.5  1.344640  2.0\n",
       "..    ...       ...  ...\n",
       "146  14.7  2.999930  3.0\n",
       "147  14.8  2.999944  3.0\n",
       "148  14.9  2.999955  3.0\n",
       "149  15.0  2.999964  3.0\n",
       "150  15.1  2.999971  3.0\n",
       "\n",
       "[151 rows x 3 columns]"
      ]
     },
     "execution_count": 3,
     "metadata": {},
     "output_type": "execute_result"
    }
   ],
   "source": [
    "print (\"Enter xInitial\") # Ask the user to input Initial X Value\n",
    "xInit = float (input())\n",
    "print (\"Enter yInitial\") # Ask the user to input Initial Y Value\n",
    "yInit = float (input())\n",
    "print (\"Enter Step Size\") # Ask the user to input Step Size\n",
    "Step = float (input())\n",
    "print (\"Enter Time\") # Ask the user to input Time Value\n",
    "Time = float (input()) \n",
    "print (\"Enter Sample Integral (To Print all put 0 )\") # Ask the user to input Sample Value\n",
    "Integration = float (input())\n",
    "\n",
    "\n",
    "df1 = Eulers(xInit,yInit,Step,Time,Integration) # Perform the Eulers method on those parameters and return a pandas dataframe\n",
    "df1"
   ]
  },
  {
   "cell_type": "markdown",
   "metadata": {},
   "source": [
    "### Export to CSV (if required)"
   ]
  },
  {
   "cell_type": "code",
   "execution_count": 4,
   "metadata": {},
   "outputs": [
    {
     "name": "stdout",
     "output_type": "stream",
     "text": [
      "Please Enter Filepath to save to CSV\n",
      "0\n"
     ]
    }
   ],
   "source": [
    "print (\"Please Enter Filepath to save to CSV\") # Asks for filepath where user wants to save CSV File\n",
    "filepath = input()\n",
    "#export_csv = df1.to_csv (filepath + \"\\ComputationalRobot.csv\") #Saves CSV based on input"
   ]
  },
  {
   "cell_type": "markdown",
   "metadata": {},
   "source": [
    "## Plot graphs"
   ]
  },
  {
   "cell_type": "markdown",
   "metadata": {},
   "source": [
    "Upper and lower limits for x is 3 and 0, which is in alignment with the upper limit for U (Robot) this means they fit in the same scale and follow a similar path to each other. This can be demonstated by the follwoing graphs"
   ]
  },
  {
   "cell_type": "code",
   "execution_count": 5,
   "metadata": {},
   "outputs": [
    {
     "data": {
      "image/png": "[encoded data removed]",
      "text/plain": [
       "<Figure size 432x288 with 1 Axes>"
      ]
     },
     "metadata": {
      "needs_background": "light"
     },
     "output_type": "display_data"
    }
   ],
   "source": [
    "plt1 = sns.lineplot(x=\"T\", y=\"X\", data=df1) #Plots graph of the effects of X over time"
   ]
  },
  {
   "cell_type": "code",
   "execution_count": 6,
   "metadata": {},
   "outputs": [
    {
     "data": {
      "image/png": "[encoded data removed]",
      "text/plain": [
       "<Figure size 432x288 with 1 Axes>"
      ]
     },
     "metadata": {
      "needs_background": "light"
     },
     "output_type": "display_data"
    }
   ],
   "source": [
    "plt2 = sns.lineplot(x=\"T\", y=\"U\", data=df1) # Plots graph on the effect of U Over Time"
   ]
  },
  {
   "cell_type": "code",
   "execution_count": 7,
   "metadata": {},
   "outputs": [
    {
     "data": {
      "text/plain": [
       "<matplotlib.axes._subplots.AxesSubplot at 0x24894030>"
      ]
     },
     "execution_count": 7,
     "metadata": {},
     "output_type": "execute_result"
    },
    {
     "data": {
      "image/png": "[encoded data removed]",
      "text/plain": [
       "<Figure size 432x288 with 1 Axes>"
      ]
     },
     "metadata": {
      "needs_background": "light"
     },
     "output_type": "display_data"
    }
   ],
   "source": [
    "plt1 = sns.lineplot(x=\"T\", y=\"X\", data=df1) #Plots Comparision Graph \n",
    "plt2 = sns.lineplot(x=\"T\", y=\"U\", data=df1)\n",
    "plt1\n",
    "plt2"
   ]
  },
  {
   "cell_type": "markdown",
   "metadata": {},
   "source": [
    "## Multiplot for Report "
   ]
  },
  {
   "cell_type": "code",
   "execution_count": 8,
   "metadata": {},
   "outputs": [],
   "source": [
    "df2 = Eulers(0,0,1,15,0) # Perform the Eulers method on those parameters and return a pandas dataframe\n",
    "df3 = Eulers(0,0,0.75,15,0) # Perform the Eulers method on those parameters and return a pandas dataframe\n",
    "df4 = Eulers(0,0,0.5,15,0) # Perform the Eulers method on those parameters and return a pandas dataframe\n",
    "df5 = Eulers(0,0,0.25,15,0) # Perform the Eulers method on those parameters and return a pandas dataframe\n",
    "df6 = Eulers(0,0,0.01,15,0) # Perform the Eulers method on those parameters and return a pandas dataframe\n",
    "df7 = Eulers(0,0,0.001,15,0) # Perform the Eulers method on those parameters and return a pandas dataframe"
   ]
  },
  {
   "cell_type": "code",
   "execution_count": 9,
   "metadata": {},
   "outputs": [
    {
     "data": {
      "image/png": "[encoded data removed]",
      "text/plain": [
       "<Figure size 432x288 with 1 Axes>"
      ]
     },
     "metadata": {
      "needs_background": "light"
     },
     "output_type": "display_data"
    }
   ],
   "source": [
    "plt3 = sns.lineplot(x=\"T\", y=\"U\", data=df2) #blue\n",
    "plt4 = sns.lineplot(x=\"T\", y=\"U\", data=df3) #Orange\n",
    "plt5 = sns.lineplot(x=\"T\", y=\"U\", data=df4) #Green\n",
    "plt6 = sns.lineplot(x=\"T\", y=\"U\", data=df5) #Red\n",
    "plt7 = sns.lineplot(x=\"T\", y=\"U\", data=df6) #Purple\n",
    "plt8 = sns.lineplot(x=\"T\", y=\"U\", data=df7) #Brown"
   ]
  },
  {
   "cell_type": "code",
   "execution_count": 77,
   "metadata": {},
   "outputs": [
    {
     "data": {
      "image/png": "[encoded data removed]",
      "text/plain": [
       "<Figure size 432x288 with 1 Axes>"
      ]
     },
     "metadata": {
      "needs_background": "light"
     },
     "output_type": "display_data"
    }
   ],
   "source": [
    "plt9 = sns.lineplot(x=\"T\", y=\"X\", data=df2) #Blue\n",
    "plt10 = sns.lineplot(x=\"T\", y=\"X\", data=df3) #Orange\n",
    "plt11 = sns.lineplot(x=\"T\", y=\"X\", data=df4) #Green\n",
    "plt12 = sns.lineplot(x=\"T\", y=\"X\", data=df5) #Red\n",
    "plt13 = sns.lineplot(x=\"T\", y=\"X\", data=df6) #Purple\n",
    "plt14 = sns.lineplot(x=\"T\", y=\"X\", data=df7) #Brown"
   ]
  },
  {
   "cell_type": "code",
   "execution_count": 79,
   "metadata": {},
   "outputs": [
    {
     "data": {
      "text/html": [
       "<div>\n",
       "<style scoped>\n",
       "    .dataframe tbody tr th:only-of-type {\n",
       "        vertical-align: middle;\n",
       "    }\n",
       "\n",
       "    .dataframe tbody tr th {\n",
       "        vertical-align: top;\n",
       "    }\n",
       "\n",
       "    .dataframe thead th {\n",
       "        text-align: right;\n",
       "    }\n",
       "</style>\n",
       "<table border=\"1\" class=\"dataframe\">\n",
       "  <thead>\n",
       "    <tr style=\"text-align: right;\">\n",
       "      <th></th>\n",
       "      <th>T</th>\n",
       "      <th>XActual</th>\n",
       "      <th>U</th>\n",
       "    </tr>\n",
       "  </thead>\n",
       "  <tbody>\n",
       "    <tr>\n",
       "      <th>0</th>\n",
       "      <td>0.1</td>\n",
       "      <td>1.000000</td>\n",
       "      <td>2.0</td>\n",
       "    </tr>\n",
       "    <tr>\n",
       "      <th>1</th>\n",
       "      <td>0.2</td>\n",
       "      <td>1.181269</td>\n",
       "      <td>2.0</td>\n",
       "    </tr>\n",
       "    <tr>\n",
       "      <th>2</th>\n",
       "      <td>0.3</td>\n",
       "      <td>1.329680</td>\n",
       "      <td>2.0</td>\n",
       "    </tr>\n",
       "    <tr>\n",
       "      <th>3</th>\n",
       "      <td>0.4</td>\n",
       "      <td>1.451188</td>\n",
       "      <td>2.0</td>\n",
       "    </tr>\n",
       "    <tr>\n",
       "      <th>4</th>\n",
       "      <td>0.5</td>\n",
       "      <td>1.550671</td>\n",
       "      <td>2.0</td>\n",
       "    </tr>\n",
       "    <tr>\n",
       "      <th>...</th>\n",
       "      <td>...</td>\n",
       "      <td>...</td>\n",
       "      <td>...</td>\n",
       "    </tr>\n",
       "    <tr>\n",
       "      <th>146</th>\n",
       "      <td>14.7</td>\n",
       "      <td>3.000000</td>\n",
       "      <td>3.0</td>\n",
       "    </tr>\n",
       "    <tr>\n",
       "      <th>147</th>\n",
       "      <td>14.8</td>\n",
       "      <td>3.000000</td>\n",
       "      <td>3.0</td>\n",
       "    </tr>\n",
       "    <tr>\n",
       "      <th>148</th>\n",
       "      <td>14.9</td>\n",
       "      <td>3.000000</td>\n",
       "      <td>3.0</td>\n",
       "    </tr>\n",
       "    <tr>\n",
       "      <th>149</th>\n",
       "      <td>15.0</td>\n",
       "      <td>3.000000</td>\n",
       "      <td>3.0</td>\n",
       "    </tr>\n",
       "    <tr>\n",
       "      <th>150</th>\n",
       "      <td>15.1</td>\n",
       "      <td>3.000000</td>\n",
       "      <td>3.0</td>\n",
       "    </tr>\n",
       "  </tbody>\n",
       "</table>\n",
       "<p>151 rows × 3 columns</p>\n",
       "</div>"
      ],
      "text/plain": [
       "        T   XActual    U\n",
       "0     0.1  1.000000  2.0\n",
       "1     0.2  1.181269  2.0\n",
       "2     0.3  1.329680  2.0\n",
       "3     0.4  1.451188  2.0\n",
       "4     0.5  1.550671  2.0\n",
       "..    ...       ...  ...\n",
       "146  14.7  3.000000  3.0\n",
       "147  14.8  3.000000  3.0\n",
       "148  14.9  3.000000  3.0\n",
       "149  15.0  3.000000  3.0\n",
       "150  15.1  3.000000  3.0\n",
       "\n",
       "[151 rows x 3 columns]"
      ]
     },
     "execution_count": 79,
     "metadata": {},
     "output_type": "execute_result"
    }
   ],
   "source": [
    "dfactual2 = Actualplot (0,0,0.1,15)\n",
    "dfactual2"
   ]
  },
  {
   "cell_type": "code",
   "execution_count": 80,
   "metadata": {},
   "outputs": [
    {
     "data": {
      "image/png": "[encoded data removed]",
      "text/plain": [
       "<Figure size 432x288 with 1 Axes>"
      ]
     },
     "metadata": {
      "needs_background": "light"
     },
     "output_type": "display_data"
    }
   ],
   "source": [
    "Actualplt = sns.lineplot(x=\"T\", y=\"XActual\", data=dfactual2) "
   ]
  },
  {
   "cell_type": "markdown",
   "metadata": {},
   "source": [
    "# Part 2: Adding Noise to Simulation"
   ]
  },
  {
   "cell_type": "markdown",
   "metadata": {},
   "source": [
    "In order for a fair simulation a level of uncertainty should be added to the data to make predictions more accurate. If the model knows all the correct data then it could predict the exact result which is find but in the real world somethings can change beyond the control and without noise these changes won't be reflected in the simulation. \n",
    "\n",
    "below is the code to generate random numbers within a standard deviation of 0.01 and mean of 0 to give a normal distribution of random numbers. The Box Muller algorithm was used to generate these numbers."
   ]
  },
  {
   "cell_type": "markdown",
   "metadata": {},
   "source": [
    "## Box Muller Algorithm"
   ]
  },
  {
   "cell_type": "code",
   "execution_count": 11,
   "metadata": {
    "scrolled": false
   },
   "outputs": [],
   "source": [
    "standarddev = 0.1 #Target Standard Deviation\n",
    "meanx = 0 # Target Mean\n",
    "noise = [] #Noise array\n",
    "distz1 = [] # Array of distribution of random numbers without modification\n",
    "distb = [] #Slight modification of random numbers\n",
    "distz2 = [] #First Set of Random Numbers\n",
    "distz3 = [] #Second Set of Random Numbers\n",
    "\n",
    "for ind in df1.index: # For each record in the dataframe\n",
    "        z1 = random.uniform(0,2*np.pi) # generate a random number between 0 and 2*pi\n",
    "        distz1.append(z1) # append random numbers to z1 array\n",
    "        \n",
    "        #generate a random number between 0 and 1 uniformally generated\n",
    "        b = standarddev*math.sqrt(-2*math.log(random.uniform(0,1))) \n",
    "        distb.append(b) # append unformly generated numbers to array\n",
    "        \n",
    "        # calulate the sin of the first random number using the uniform number\n",
    "        z2 = b*math.sin(z1)+meanx \n",
    "        distz2 = [z2] #add random number 1 to array\n",
    "        \n",
    "        # calulate the cos of the Second random number using the uniform number\n",
    "        z3 = b*math.cos(z1)+meanx\n",
    "        distz3 = [z3] #add random number 2 to array\n",
    "        \n",
    "        Xnoise = z2 \n",
    "        Xnoise2 = z3 \n",
    "\n",
    "        noise.append(Xnoise)# Add random number 1 to Xnoise\n",
    "        noise.append(Xnoise2)# Add random number 2 to Xnoise"
   ]
  },
  {
   "cell_type": "markdown",
   "metadata": {},
   "source": [
    "## Distribution Plots of Random Numbers "
   ]
  },
  {
   "cell_type": "code",
   "execution_count": 12,
   "metadata": {},
   "outputs": [
    {
     "data": {
      "text/plain": [
       "<matplotlib.axes._subplots.AxesSubplot at 0x24df1f10>"
      ]
     },
     "execution_count": 12,
     "metadata": {},
     "output_type": "execute_result"
    },
    {
     "data": {
      "image/png": "[encoded data removed]",
      "text/plain": [
       "<Figure size 432x288 with 1 Axes>"
      ]
     },
     "metadata": {
      "needs_background": "light"
     },
     "output_type": "display_data"
    }
   ],
   "source": [
    "sns.distplot(distz1) #Distribution of random numbers before box muller"
   ]
  },
  {
   "cell_type": "code",
   "execution_count": 13,
   "metadata": {},
   "outputs": [
    {
     "data": {
      "text/plain": [
       "<matplotlib.axes._subplots.AxesSubplot at 0x24de9fb0>"
      ]
     },
     "execution_count": 13,
     "metadata": {},
     "output_type": "execute_result"
    },
    {
     "data": {
      "image/png": "[encoded data removed]",
      "text/plain": [
       "<Figure size 432x288 with 1 Axes>"
      ]
     },
     "metadata": {
      "needs_background": "light"
     },
     "output_type": "display_data"
    }
   ],
   "source": [
    "sns.distplot(distb) #Distribution of Random Uniform Numbers between 0 and 1"
   ]
  },
  {
   "cell_type": "code",
   "execution_count": 14,
   "metadata": {},
   "outputs": [
    {
     "data": {
      "text/plain": [
       "<matplotlib.axes._subplots.AxesSubplot at 0x25e8a690>"
      ]
     },
     "execution_count": 14,
     "metadata": {},
     "output_type": "execute_result"
    },
    {
     "data": {
      "image/png": "[encoded data removed]",
      "text/plain": [
       "<Figure size 432x288 with 1 Axes>"
      ]
     },
     "metadata": {
      "needs_background": "light"
     },
     "output_type": "display_data"
    }
   ],
   "source": [
    "sns.distplot(noise) #Distribution of Standardised Numbers"
   ]
  },
  {
   "cell_type": "markdown",
   "metadata": {},
   "source": [
    "## Add Noise to Dataframe"
   ]
  },
  {
   "cell_type": "code",
   "execution_count": 15,
   "metadata": {
    "scrolled": true
   },
   "outputs": [
    {
     "data": {
      "text/html": [
       "<div>\n",
       "<style scoped>\n",
       "    .dataframe tbody tr th:only-of-type {\n",
       "        vertical-align: middle;\n",
       "    }\n",
       "\n",
       "    .dataframe tbody tr th {\n",
       "        vertical-align: top;\n",
       "    }\n",
       "\n",
       "    .dataframe thead th {\n",
       "        text-align: right;\n",
       "    }\n",
       "</style>\n",
       "<table border=\"1\" class=\"dataframe\">\n",
       "  <thead>\n",
       "    <tr style=\"text-align: right;\">\n",
       "      <th></th>\n",
       "      <th>Noise</th>\n",
       "    </tr>\n",
       "  </thead>\n",
       "  <tbody>\n",
       "    <tr>\n",
       "      <th>0</th>\n",
       "      <td>-0.055102</td>\n",
       "    </tr>\n",
       "    <tr>\n",
       "      <th>1</th>\n",
       "      <td>0.163210</td>\n",
       "    </tr>\n",
       "    <tr>\n",
       "      <th>2</th>\n",
       "      <td>-0.120019</td>\n",
       "    </tr>\n",
       "    <tr>\n",
       "      <th>3</th>\n",
       "      <td>0.179439</td>\n",
       "    </tr>\n",
       "    <tr>\n",
       "      <th>4</th>\n",
       "      <td>-0.013675</td>\n",
       "    </tr>\n",
       "    <tr>\n",
       "      <th>...</th>\n",
       "      <td>...</td>\n",
       "    </tr>\n",
       "    <tr>\n",
       "      <th>297</th>\n",
       "      <td>0.093492</td>\n",
       "    </tr>\n",
       "    <tr>\n",
       "      <th>298</th>\n",
       "      <td>0.090633</td>\n",
       "    </tr>\n",
       "    <tr>\n",
       "      <th>299</th>\n",
       "      <td>0.019833</td>\n",
       "    </tr>\n",
       "    <tr>\n",
       "      <th>300</th>\n",
       "      <td>0.036302</td>\n",
       "    </tr>\n",
       "    <tr>\n",
       "      <th>301</th>\n",
       "      <td>-0.126256</td>\n",
       "    </tr>\n",
       "  </tbody>\n",
       "</table>\n",
       "<p>302 rows × 1 columns</p>\n",
       "</div>"
      ],
      "text/plain": [
       "        Noise\n",
       "0   -0.055102\n",
       "1    0.163210\n",
       "2   -0.120019\n",
       "3    0.179439\n",
       "4   -0.013675\n",
       "..        ...\n",
       "297  0.093492\n",
       "298  0.090633\n",
       "299  0.019833\n",
       "300  0.036302\n",
       "301 -0.126256\n",
       "\n",
       "[302 rows x 1 columns]"
      ]
     },
     "execution_count": 15,
     "metadata": {},
     "output_type": "execute_result"
    }
   ],
   "source": [
    "dfnoise = pd.DataFrame(noise) #Add noise to dataframe\n",
    "dfnoise.columns =['Noise'] #Rename Col to Noise\n",
    "dfnoise # Display Noise"
   ]
  },
  {
   "cell_type": "code",
   "execution_count": 16,
   "metadata": {
    "scrolled": false
   },
   "outputs": [
    {
     "data": {
      "text/html": [
       "<div>\n",
       "<style scoped>\n",
       "    .dataframe tbody tr th:only-of-type {\n",
       "        vertical-align: middle;\n",
       "    }\n",
       "\n",
       "    .dataframe tbody tr th {\n",
       "        vertical-align: top;\n",
       "    }\n",
       "\n",
       "    .dataframe thead th {\n",
       "        text-align: right;\n",
       "    }\n",
       "</style>\n",
       "<table border=\"1\" class=\"dataframe\">\n",
       "  <thead>\n",
       "    <tr style=\"text-align: right;\">\n",
       "      <th></th>\n",
       "      <th>T</th>\n",
       "      <th>X</th>\n",
       "      <th>U</th>\n",
       "      <th>Noise</th>\n",
       "    </tr>\n",
       "  </thead>\n",
       "  <tbody>\n",
       "    <tr>\n",
       "      <th>0</th>\n",
       "      <td>0.1</td>\n",
       "      <td>0.400000</td>\n",
       "      <td>2.0</td>\n",
       "      <td>-0.055102</td>\n",
       "    </tr>\n",
       "    <tr>\n",
       "      <th>1</th>\n",
       "      <td>0.2</td>\n",
       "      <td>0.720000</td>\n",
       "      <td>2.0</td>\n",
       "      <td>0.163210</td>\n",
       "    </tr>\n",
       "    <tr>\n",
       "      <th>2</th>\n",
       "      <td>0.3</td>\n",
       "      <td>0.976000</td>\n",
       "      <td>2.0</td>\n",
       "      <td>-0.120019</td>\n",
       "    </tr>\n",
       "    <tr>\n",
       "      <th>3</th>\n",
       "      <td>0.4</td>\n",
       "      <td>1.180800</td>\n",
       "      <td>2.0</td>\n",
       "      <td>0.179439</td>\n",
       "    </tr>\n",
       "    <tr>\n",
       "      <th>4</th>\n",
       "      <td>0.5</td>\n",
       "      <td>1.344640</td>\n",
       "      <td>2.0</td>\n",
       "      <td>-0.013675</td>\n",
       "    </tr>\n",
       "    <tr>\n",
       "      <th>...</th>\n",
       "      <td>...</td>\n",
       "      <td>...</td>\n",
       "      <td>...</td>\n",
       "      <td>...</td>\n",
       "    </tr>\n",
       "    <tr>\n",
       "      <th>146</th>\n",
       "      <td>14.7</td>\n",
       "      <td>2.999930</td>\n",
       "      <td>3.0</td>\n",
       "      <td>-0.079226</td>\n",
       "    </tr>\n",
       "    <tr>\n",
       "      <th>147</th>\n",
       "      <td>14.8</td>\n",
       "      <td>2.999944</td>\n",
       "      <td>3.0</td>\n",
       "      <td>0.047768</td>\n",
       "    </tr>\n",
       "    <tr>\n",
       "      <th>148</th>\n",
       "      <td>14.9</td>\n",
       "      <td>2.999955</td>\n",
       "      <td>3.0</td>\n",
       "      <td>-0.009198</td>\n",
       "    </tr>\n",
       "    <tr>\n",
       "      <th>149</th>\n",
       "      <td>15.0</td>\n",
       "      <td>2.999964</td>\n",
       "      <td>3.0</td>\n",
       "      <td>0.001530</td>\n",
       "    </tr>\n",
       "    <tr>\n",
       "      <th>150</th>\n",
       "      <td>15.1</td>\n",
       "      <td>2.999971</td>\n",
       "      <td>3.0</td>\n",
       "      <td>-0.036256</td>\n",
       "    </tr>\n",
       "  </tbody>\n",
       "</table>\n",
       "<p>151 rows × 4 columns</p>\n",
       "</div>"
      ],
      "text/plain": [
       "        T         X    U     Noise\n",
       "0     0.1  0.400000  2.0 -0.055102\n",
       "1     0.2  0.720000  2.0  0.163210\n",
       "2     0.3  0.976000  2.0 -0.120019\n",
       "3     0.4  1.180800  2.0  0.179439\n",
       "4     0.5  1.344640  2.0 -0.013675\n",
       "..    ...       ...  ...       ...\n",
       "146  14.7  2.999930  3.0 -0.079226\n",
       "147  14.8  2.999944  3.0  0.047768\n",
       "148  14.9  2.999955  3.0 -0.009198\n",
       "149  15.0  2.999964  3.0  0.001530\n",
       "150  15.1  2.999971  3.0 -0.036256\n",
       "\n",
       "[151 rows x 4 columns]"
      ]
     },
     "execution_count": 16,
     "metadata": {},
     "output_type": "execute_result"
    }
   ],
   "source": [
    "dfcount = df1['X'].count() # Find count of x (how many in dataframe)\n",
    "\n",
    "# add to dataframe the number of records in dataframe\n",
    "dfnoiseshortened = dfnoise[dfnoise[\"Noise\"].index < dfcount] \n",
    "\n",
    "df1['Noise'] = dfnoiseshortened # append noise to original dataframe\n",
    "df1 #show dataframe"
   ]
  },
  {
   "cell_type": "code",
   "execution_count": 17,
   "metadata": {},
   "outputs": [
    {
     "data": {
      "text/plain": [
       "<matplotlib.axes._subplots.AxesSubplot at 0x25ee3250>"
      ]
     },
     "execution_count": 17,
     "metadata": {},
     "output_type": "execute_result"
    },
    {
     "data": {
      "image/png": "[encoded data removed]",
      "text/plain": [
       "<Figure size 432x288 with 1 Axes>"
      ]
     },
     "metadata": {
      "needs_background": "light"
     },
     "output_type": "display_data"
    }
   ],
   "source": [
    "sns.distplot(df1['Noise']) #check if shortened noise still has a normal distrbution"
   ]
  },
  {
   "cell_type": "code",
   "execution_count": 81,
   "metadata": {},
   "outputs": [
    {
     "data": {
      "text/html": [
       "<div>\n",
       "<style scoped>\n",
       "    .dataframe tbody tr th:only-of-type {\n",
       "        vertical-align: middle;\n",
       "    }\n",
       "\n",
       "    .dataframe tbody tr th {\n",
       "        vertical-align: top;\n",
       "    }\n",
       "\n",
       "    .dataframe thead th {\n",
       "        text-align: right;\n",
       "    }\n",
       "</style>\n",
       "<table border=\"1\" class=\"dataframe\">\n",
       "  <thead>\n",
       "    <tr style=\"text-align: right;\">\n",
       "      <th></th>\n",
       "      <th>T</th>\n",
       "      <th>X</th>\n",
       "      <th>U</th>\n",
       "      <th>Noise</th>\n",
       "      <th>xNoise</th>\n",
       "    </tr>\n",
       "  </thead>\n",
       "  <tbody>\n",
       "    <tr>\n",
       "      <th>0</th>\n",
       "      <td>0.1</td>\n",
       "      <td>0.400000</td>\n",
       "      <td>2.0</td>\n",
       "      <td>-0.055102</td>\n",
       "      <td>0.344898</td>\n",
       "    </tr>\n",
       "    <tr>\n",
       "      <th>1</th>\n",
       "      <td>0.2</td>\n",
       "      <td>0.720000</td>\n",
       "      <td>2.0</td>\n",
       "      <td>0.163210</td>\n",
       "      <td>0.883210</td>\n",
       "    </tr>\n",
       "    <tr>\n",
       "      <th>2</th>\n",
       "      <td>0.3</td>\n",
       "      <td>0.976000</td>\n",
       "      <td>2.0</td>\n",
       "      <td>-0.120019</td>\n",
       "      <td>0.855981</td>\n",
       "    </tr>\n",
       "    <tr>\n",
       "      <th>3</th>\n",
       "      <td>0.4</td>\n",
       "      <td>1.180800</td>\n",
       "      <td>2.0</td>\n",
       "      <td>0.179439</td>\n",
       "      <td>1.360239</td>\n",
       "    </tr>\n",
       "    <tr>\n",
       "      <th>4</th>\n",
       "      <td>0.5</td>\n",
       "      <td>1.344640</td>\n",
       "      <td>2.0</td>\n",
       "      <td>-0.013675</td>\n",
       "      <td>1.330965</td>\n",
       "    </tr>\n",
       "    <tr>\n",
       "      <th>...</th>\n",
       "      <td>...</td>\n",
       "      <td>...</td>\n",
       "      <td>...</td>\n",
       "      <td>...</td>\n",
       "      <td>...</td>\n",
       "    </tr>\n",
       "    <tr>\n",
       "      <th>146</th>\n",
       "      <td>14.7</td>\n",
       "      <td>2.999930</td>\n",
       "      <td>3.0</td>\n",
       "      <td>-0.079226</td>\n",
       "      <td>2.920704</td>\n",
       "    </tr>\n",
       "    <tr>\n",
       "      <th>147</th>\n",
       "      <td>14.8</td>\n",
       "      <td>2.999944</td>\n",
       "      <td>3.0</td>\n",
       "      <td>0.047768</td>\n",
       "      <td>3.047713</td>\n",
       "    </tr>\n",
       "    <tr>\n",
       "      <th>148</th>\n",
       "      <td>14.9</td>\n",
       "      <td>2.999955</td>\n",
       "      <td>3.0</td>\n",
       "      <td>-0.009198</td>\n",
       "      <td>2.990757</td>\n",
       "    </tr>\n",
       "    <tr>\n",
       "      <th>149</th>\n",
       "      <td>15.0</td>\n",
       "      <td>2.999964</td>\n",
       "      <td>3.0</td>\n",
       "      <td>0.001530</td>\n",
       "      <td>3.001494</td>\n",
       "    </tr>\n",
       "    <tr>\n",
       "      <th>150</th>\n",
       "      <td>15.1</td>\n",
       "      <td>2.999971</td>\n",
       "      <td>3.0</td>\n",
       "      <td>-0.036256</td>\n",
       "      <td>2.963715</td>\n",
       "    </tr>\n",
       "  </tbody>\n",
       "</table>\n",
       "<p>151 rows × 5 columns</p>\n",
       "</div>"
      ],
      "text/plain": [
       "        T         X    U     Noise    xNoise\n",
       "0     0.1  0.400000  2.0 -0.055102  0.344898\n",
       "1     0.2  0.720000  2.0  0.163210  0.883210\n",
       "2     0.3  0.976000  2.0 -0.120019  0.855981\n",
       "3     0.4  1.180800  2.0  0.179439  1.360239\n",
       "4     0.5  1.344640  2.0 -0.013675  1.330965\n",
       "..    ...       ...  ...       ...       ...\n",
       "146  14.7  2.999930  3.0 -0.079226  2.920704\n",
       "147  14.8  2.999944  3.0  0.047768  3.047713\n",
       "148  14.9  2.999955  3.0 -0.009198  2.990757\n",
       "149  15.0  2.999964  3.0  0.001530  3.001494\n",
       "150  15.1  2.999971  3.0 -0.036256  2.963715\n",
       "\n",
       "[151 rows x 5 columns]"
      ]
     },
     "execution_count": 81,
     "metadata": {},
     "output_type": "execute_result"
    }
   ],
   "source": [
    "XcombinedNoise =  df1['Noise'] + df1['X'] # Add Noise to the X value\n",
    "df1['xNoise'] = XcombinedNoise # Add XNoise to dataframe\n",
    "df1 #Display Dataframe"
   ]
  },
  {
   "cell_type": "code",
   "execution_count": 96,
   "metadata": {},
   "outputs": [
    {
     "data": {
      "text/html": [
       "<div>\n",
       "<style scoped>\n",
       "    .dataframe tbody tr th:only-of-type {\n",
       "        vertical-align: middle;\n",
       "    }\n",
       "\n",
       "    .dataframe tbody tr th {\n",
       "        vertical-align: top;\n",
       "    }\n",
       "\n",
       "    .dataframe thead th {\n",
       "        text-align: right;\n",
       "    }\n",
       "</style>\n",
       "<table border=\"1\" class=\"dataframe\">\n",
       "  <thead>\n",
       "    <tr style=\"text-align: right;\">\n",
       "      <th></th>\n",
       "      <th>T</th>\n",
       "      <th>X</th>\n",
       "      <th>U</th>\n",
       "      <th>Noise</th>\n",
       "      <th>xNoise</th>\n",
       "      <th>PercentageNoise</th>\n",
       "    </tr>\n",
       "  </thead>\n",
       "  <tbody>\n",
       "    <tr>\n",
       "      <th>0</th>\n",
       "      <td>0.1</td>\n",
       "      <td>0.400000</td>\n",
       "      <td>2.0</td>\n",
       "      <td>-0.055102</td>\n",
       "      <td>0.344898</td>\n",
       "      <td>289.940374</td>\n",
       "    </tr>\n",
       "    <tr>\n",
       "      <th>1</th>\n",
       "      <td>0.2</td>\n",
       "      <td>0.720000</td>\n",
       "      <td>2.0</td>\n",
       "      <td>0.163210</td>\n",
       "      <td>0.883210</td>\n",
       "      <td>113.223418</td>\n",
       "    </tr>\n",
       "    <tr>\n",
       "      <th>2</th>\n",
       "      <td>0.3</td>\n",
       "      <td>0.976000</td>\n",
       "      <td>2.0</td>\n",
       "      <td>-0.120019</td>\n",
       "      <td>0.855981</td>\n",
       "      <td>116.824971</td>\n",
       "    </tr>\n",
       "    <tr>\n",
       "      <th>3</th>\n",
       "      <td>0.4</td>\n",
       "      <td>1.180800</td>\n",
       "      <td>2.0</td>\n",
       "      <td>0.179439</td>\n",
       "      <td>1.360239</td>\n",
       "      <td>73.516495</td>\n",
       "    </tr>\n",
       "    <tr>\n",
       "      <th>4</th>\n",
       "      <td>0.5</td>\n",
       "      <td>1.344640</td>\n",
       "      <td>2.0</td>\n",
       "      <td>-0.013675</td>\n",
       "      <td>1.330965</td>\n",
       "      <td>75.133455</td>\n",
       "    </tr>\n",
       "    <tr>\n",
       "      <th>...</th>\n",
       "      <td>...</td>\n",
       "      <td>...</td>\n",
       "      <td>...</td>\n",
       "      <td>...</td>\n",
       "      <td>...</td>\n",
       "      <td>...</td>\n",
       "    </tr>\n",
       "    <tr>\n",
       "      <th>146</th>\n",
       "      <td>14.7</td>\n",
       "      <td>2.999930</td>\n",
       "      <td>3.0</td>\n",
       "      <td>-0.079226</td>\n",
       "      <td>2.920704</td>\n",
       "      <td>34.238318</td>\n",
       "    </tr>\n",
       "    <tr>\n",
       "      <th>147</th>\n",
       "      <td>14.8</td>\n",
       "      <td>2.999944</td>\n",
       "      <td>3.0</td>\n",
       "      <td>0.047768</td>\n",
       "      <td>3.047713</td>\n",
       "      <td>32.811492</td>\n",
       "    </tr>\n",
       "    <tr>\n",
       "      <th>148</th>\n",
       "      <td>14.9</td>\n",
       "      <td>2.999955</td>\n",
       "      <td>3.0</td>\n",
       "      <td>-0.009198</td>\n",
       "      <td>2.990757</td>\n",
       "      <td>33.436347</td>\n",
       "    </tr>\n",
       "    <tr>\n",
       "      <th>149</th>\n",
       "      <td>15.0</td>\n",
       "      <td>2.999964</td>\n",
       "      <td>3.0</td>\n",
       "      <td>0.001530</td>\n",
       "      <td>3.001494</td>\n",
       "      <td>33.316741</td>\n",
       "    </tr>\n",
       "    <tr>\n",
       "      <th>150</th>\n",
       "      <td>15.1</td>\n",
       "      <td>2.999971</td>\n",
       "      <td>3.0</td>\n",
       "      <td>-0.036256</td>\n",
       "      <td>2.963715</td>\n",
       "      <td>33.741432</td>\n",
       "    </tr>\n",
       "  </tbody>\n",
       "</table>\n",
       "<p>151 rows × 6 columns</p>\n",
       "</div>"
      ],
      "text/plain": [
       "        T         X    U     Noise    xNoise  PercentageNoise\n",
       "0     0.1  0.400000  2.0 -0.055102  0.344898       289.940374\n",
       "1     0.2  0.720000  2.0  0.163210  0.883210       113.223418\n",
       "2     0.3  0.976000  2.0 -0.120019  0.855981       116.824971\n",
       "3     0.4  1.180800  2.0  0.179439  1.360239        73.516495\n",
       "4     0.5  1.344640  2.0 -0.013675  1.330965        75.133455\n",
       "..    ...       ...  ...       ...       ...              ...\n",
       "146  14.7  2.999930  3.0 -0.079226  2.920704        34.238318\n",
       "147  14.8  2.999944  3.0  0.047768  3.047713        32.811492\n",
       "148  14.9  2.999955  3.0 -0.009198  2.990757        33.436347\n",
       "149  15.0  2.999964  3.0  0.001530  3.001494        33.316741\n",
       "150  15.1  2.999971  3.0 -0.036256  2.963715        33.741432\n",
       "\n",
       "[151 rows x 6 columns]"
      ]
     },
     "execution_count": 96,
     "metadata": {},
     "output_type": "execute_result"
    }
   ],
   "source": [
    "Noise = df1['Noise']\n",
    "X = df1['X']\n",
    "\n",
    "\n",
    "#perc = (Noise/X  *100)\n",
    "#perc = 100/(Noise+X)\n",
    "df1['PercentageNoise'] = perc\n",
    "df1"
   ]
  },
  {
   "cell_type": "code",
   "execution_count": 95,
   "metadata": {},
   "outputs": [
    {
     "data": {
      "image/png": "[encoded data removed]",
      "text/plain": [
       "<Figure size 432x288 with 1 Axes>"
      ]
     },
     "metadata": {
      "needs_background": "light"
     },
     "output_type": "display_data"
    }
   ],
   "source": [
    "#Plot Effect Noise had on X (Increasing std to 0.1 makes the effect more evident)\n",
    "Noiseplt = sns.lineplot(x=\"T\", y=\"xNoise\", data=df1) "
   ]
  },
  {
   "cell_type": "markdown",
   "metadata": {},
   "source": [
    "# Part 3: Predicting the Robot"
   ]
  },
  {
   "cell_type": "code",
   "execution_count": 73,
   "metadata": {},
   "outputs": [],
   "source": []
  }
 ],
 "metadata": {
  "kernelspec": {
   "display_name": "Python 3",
   "language": "python",
   "name": "python3"
  },
  "language_info": {
   "codemirror_mode": {
    "name": "ipython",
    "version": 3
   },
   "file_extension": ".py",
   "mimetype": "text/x-python",
   "name": "python",
   "nbconvert_exporter": "python",
   "pygments_lexer": "ipython3",
   "version": "3.7.4"
  }
 },
 "nbformat": 4,
 "nbformat_minor": 2
}
