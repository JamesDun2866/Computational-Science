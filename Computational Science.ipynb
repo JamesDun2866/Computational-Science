{
 "cells": [
  {
   "cell_type": "markdown",
   "metadata": {},
   "source": [
    "# Computational Science"
   ]
  },
  {
   "cell_type": "markdown",
   "metadata": {},
   "source": [
    "## Imports "
   ]
  },
  {
   "cell_type": "code",
   "execution_count": 1,
   "metadata": {},
   "outputs": [],
   "source": [
    "import pandas as pd #Import Pandas for Dataframes\n",
    "import seaborn as sns #Import Seaborn for Graphs\n",
    "import numpy as np #Import numpy for arrays\n",
    "import math # Import Math for Sqrt,cos and Sin\n",
    "import random # Import Random for Random Number Generation"
   ]
  },
  {
   "cell_type": "markdown",
   "metadata": {},
   "source": [
    "# Part 1: Simulating the Robot in 2D Space"
   ]
  },
  {
   "cell_type": "markdown",
   "metadata": {},
   "source": [
    "## Eulers Algorithm"
   ]
  },
  {
   "cell_type": "markdown",
   "metadata": {},
   "source": [
    "![Eulers](https://i.imgur.com/MPAQeOI.jpg)"
   ]
  },
  {
   "cell_type": "markdown",
   "metadata": {},
   "source": [
    "Eulers Algorithm is Used to calulate where the robot is in 2D Space given a set of co-ordinates, a max time and a step size. It calulates the position of x by performing F = -2x+2U Where U is the current step and x is the position. it does this for each step untill the max time is hit. This can then be plotted to give a location and path of the robot in 2D space. By solving the differential equations the robot can be tracked in the space. "
   ]
  },
  {
   "cell_type": "code",
   "execution_count": 2,
   "metadata": {
    "scrolled": false
   },
   "outputs": [],
   "source": [
    "def EulersEquation(U,x): # Eulers Equation  F = -2X+2U used to calulate the value of x in the full algorithm \n",
    "    f = -2*x +2*U #Performs the equation \n",
    "    return f # Returns the value\n",
    "   \n",
    "\n",
    "def IntergationCount (h,i): # Integration Count is used to calulate the difference between the Step size and the sample integral\n",
    "    OGStep = h # Sets the Original Step size to the value of the step size (this changes later so needs to be constant)\n",
    "    Count  = 0 # Set count varible to 0, This will be the difference\n",
    "    S = False # set Start to False \n",
    "    if (i == 0):  # if the Sample Integral is not set set S to True\n",
    "        S = True\n",
    "\n",
    "    while S == False: # If the sample integral is set calculate the difference\n",
    "        Count = Count + 1\n",
    "        if (Count*OGStep == i): #verify if integral size is the correct amount then shut the gate\n",
    "            S = True\n",
    "            \n",
    "    return Count #return the sample size\n",
    "\n",
    "def Eulers(a,b,h,T,i): #Take in XInit,YInit, Step Size, Time and Sample Intergal\n",
    "    df1 = pd.DataFrame({\"T\":[],\"X\":[],\"U\":[]}) #declare dataframe structure \n",
    "    t =a #Set Time at position 0, Can be higher based on inital Entry\n",
    "    x= b  # Set x at position 0, Can be higher based on inital Entry\n",
    "    Count = 0 #set count to 0 used in determing how many to print based on the sample size\n",
    "    \n",
    "    IntegrationCount = IntergationCount(h,i) #Calculate the sample size \n",
    "    \n",
    "    while t<T: #while Current time < initial time\n",
    "        if (t<0 or t<=5): #Set rotbot direction (U) based on where the time is\n",
    "            U = 2\n",
    "        elif (t<5 or t<=10):\n",
    "            U = 1\n",
    "        elif (t<10 or t<=15):\n",
    "            U =3\n",
    "    \n",
    "        k = h*EulersEquation(U,x) #perform equation stated in the method Eulers Eqation\n",
    "        x = x +k # add predition to the x value (Plotted later)\n",
    "        t = t+h #increase step for next result\n",
    "        Count = Count + 1 # increase count for integral\n",
    "        \n",
    "        if (Count >= IntegrationCount): # if the count is at the integral amount add to dataframe\n",
    "            df2 = pd.DataFrame({\"T\":[t],\"X\":[x],\"U\":[U]}) #get result of eulers in dataframe based on integral steps\n",
    "            df1 = df1.append(df2) #append to dataframe\n",
    "            Count = 0 #reset the count to 0\n",
    "            \n",
    "    df1.reset_index(inplace=True) # reset the index broken by appending 2 dataframes\n",
    "    df1 = df1.drop(columns=['index']) #drop the inital index column (Blank)\n",
    "    return df1 # return dataframe \n",
    "\n",
    "def Actual(U,t): #The equation which plots the actual results for the time\n",
    "    mathst = t*2 # time x2 \n",
    "    eqat = U - math.exp(-mathst) #U - the exponential of t*2 \n",
    "    return eqat # return the completed equation\n",
    "\n",
    "def Actualplot(a,b,h,T): #Plot the actual values \n",
    "    dfActual = pd.DataFrame({\"T\":[],\"XActual\":[],\"U\":[]}) #Declare the dataframe\n",
    "    t =a  # set current time to 0\n",
    "    x= b #set x at position 0\n",
    "    \n",
    "    \n",
    "    while t<=T: #while Current time < initial time\n",
    "        if (t<0 or t<=5):#Set rotbot direction (U) based on where the time is\n",
    "            U = 2\n",
    "        elif (t<5 or t<=10):\n",
    "            U = 1\n",
    "        elif (t<10 or t<=15):\n",
    "            U =3\n",
    "    \n",
    "        k = Actual(U,t) #Calulate the actual x position\n",
    "        t = t+h #move the step value forward\n",
    "        dfActual2 = pd.DataFrame({\"T\":[t],\"XActual\":[k],\"U\":[U]}) #fill the dataframe \n",
    "        \n",
    "        dfActual = dfActual.append(dfActual2) #append the dataframe\n",
    "            \n",
    "    dfActual.reset_index(inplace=True) #fix the index values of dataframe\n",
    "    dfActual = dfActual.drop(columns=['index'])\n",
    "    return dfActual"
   ]
  },
  {
   "cell_type": "markdown",
   "metadata": {},
   "source": [
    "## Perform Eulers "
   ]
  },
  {
   "cell_type": "markdown",
   "metadata": {},
   "source": [
    "(Returns as Pandas Dataframe)"
   ]
  },
  {
   "cell_type": "code",
   "execution_count": 3,
   "metadata": {
    "scrolled": false
   },
   "outputs": [
    {
     "name": "stdout",
     "output_type": "stream",
     "text": [
      "Enter xInitial\n",
      "0\n",
      "Enter yInitial\n",
      "0\n",
      "Enter Step Size\n",
      "0.1\n",
      "Enter Time\n",
      "15\n",
      "Enter Sample Integral (To Print all put 0 )\n",
      "0\n"
     ]
    },
    {
     "data": {
      "text/html": [
       "<div>\n",
       "<style scoped>\n",
       "    .dataframe tbody tr th:only-of-type {\n",
       "        vertical-align: middle;\n",
       "    }\n",
       "\n",
       "    .dataframe tbody tr th {\n",
       "        vertical-align: top;\n",
       "    }\n",
       "\n",
       "    .dataframe thead th {\n",
       "        text-align: right;\n",
       "    }\n",
       "</style>\n",
       "<table border=\"1\" class=\"dataframe\">\n",
       "  <thead>\n",
       "    <tr style=\"text-align: right;\">\n",
       "      <th></th>\n",
       "      <th>T</th>\n",
       "      <th>X</th>\n",
       "      <th>U</th>\n",
       "    </tr>\n",
       "  </thead>\n",
       "  <tbody>\n",
       "    <tr>\n",
       "      <th>0</th>\n",
       "      <td>0.1</td>\n",
       "      <td>0.400000</td>\n",
       "      <td>2.0</td>\n",
       "    </tr>\n",
       "    <tr>\n",
       "      <th>1</th>\n",
       "      <td>0.2</td>\n",
       "      <td>0.720000</td>\n",
       "      <td>2.0</td>\n",
       "    </tr>\n",
       "    <tr>\n",
       "      <th>2</th>\n",
       "      <td>0.3</td>\n",
       "      <td>0.976000</td>\n",
       "      <td>2.0</td>\n",
       "    </tr>\n",
       "    <tr>\n",
       "      <th>3</th>\n",
       "      <td>0.4</td>\n",
       "      <td>1.180800</td>\n",
       "      <td>2.0</td>\n",
       "    </tr>\n",
       "    <tr>\n",
       "      <th>4</th>\n",
       "      <td>0.5</td>\n",
       "      <td>1.344640</td>\n",
       "      <td>2.0</td>\n",
       "    </tr>\n",
       "    <tr>\n",
       "      <th>...</th>\n",
       "      <td>...</td>\n",
       "      <td>...</td>\n",
       "      <td>...</td>\n",
       "    </tr>\n",
       "    <tr>\n",
       "      <th>146</th>\n",
       "      <td>14.7</td>\n",
       "      <td>2.999930</td>\n",
       "      <td>3.0</td>\n",
       "    </tr>\n",
       "    <tr>\n",
       "      <th>147</th>\n",
       "      <td>14.8</td>\n",
       "      <td>2.999944</td>\n",
       "      <td>3.0</td>\n",
       "    </tr>\n",
       "    <tr>\n",
       "      <th>148</th>\n",
       "      <td>14.9</td>\n",
       "      <td>2.999955</td>\n",
       "      <td>3.0</td>\n",
       "    </tr>\n",
       "    <tr>\n",
       "      <th>149</th>\n",
       "      <td>15.0</td>\n",
       "      <td>2.999964</td>\n",
       "      <td>3.0</td>\n",
       "    </tr>\n",
       "    <tr>\n",
       "      <th>150</th>\n",
       "      <td>15.1</td>\n",
       "      <td>2.999971</td>\n",
       "      <td>3.0</td>\n",
       "    </tr>\n",
       "  </tbody>\n",
       "</table>\n",
       "<p>151 rows × 3 columns</p>\n",
       "</div>"
      ],
      "text/plain": [
       "        T         X    U\n",
       "0     0.1  0.400000  2.0\n",
       "1     0.2  0.720000  2.0\n",
       "2     0.3  0.976000  2.0\n",
       "3     0.4  1.180800  2.0\n",
       "4     0.5  1.344640  2.0\n",
       "..    ...       ...  ...\n",
       "146  14.7  2.999930  3.0\n",
       "147  14.8  2.999944  3.0\n",
       "148  14.9  2.999955  3.0\n",
       "149  15.0  2.999964  3.0\n",
       "150  15.1  2.999971  3.0\n",
       "\n",
       "[151 rows x 3 columns]"
      ]
     },
     "execution_count": 3,
     "metadata": {},
     "output_type": "execute_result"
    }
   ],
   "source": [
    "print (\"Enter xInitial\") # Ask the user to input Initial X Value\n",
    "xInit = float (input())\n",
    "print (\"Enter yInitial\") # Ask the user to input Initial Y Value\n",
    "yInit = float (input())\n",
    "print (\"Enter Step Size\") # Ask the user to input Step Size\n",
    "Step = float (input())\n",
    "print (\"Enter Time\") # Ask the user to input Time Value\n",
    "Time = float (input()) \n",
    "print (\"Enter Sample Integral (To Print all put 0 )\") # Ask the user to input Sample Value\n",
    "Integration = float (input())\n",
    "\n",
    "\n",
    "df1 = Eulers(xInit,yInit,Step,Time,Integration) # Perform the Eulers method on those parameters and return a pandas dataframe\n",
    "df1"
   ]
  },
  {
   "cell_type": "markdown",
   "metadata": {},
   "source": [
    "### Export to CSV (if required)"
   ]
  },
  {
   "cell_type": "code",
   "execution_count": null,
   "metadata": {},
   "outputs": [],
   "source": [
    "print (\"Please Enter Filepath to save to CSV\") # Asks for filepath where user wants to save CSV File\n",
    "filepath = input()\n",
    "#export_csv = df1.to_csv (filepath + \"\\ComputationalRobot.csv\") #Saves CSV based on input"
   ]
  },
  {
   "cell_type": "markdown",
   "metadata": {},
   "source": [
    "## Plot graphs"
   ]
  },
  {
   "cell_type": "markdown",
   "metadata": {},
   "source": [
    "Upper and lower limits for x is 3 and 0, which is in alignment with the upper limit for U (Robot) this means they fit in the same scale and follow a similar path to each other. This can be demonstated by the follwoing graphs"
   ]
  },
  {
   "cell_type": "code",
   "execution_count": 4,
   "metadata": {},
   "outputs": [
    {
     "data": {
      "image/png": "[encoded data removed]",
      "text/plain": [
       "<Figure size 432x288 with 1 Axes>"
      ]
     },
     "metadata": {
      "needs_background": "light"
     },
     "output_type": "display_data"
    }
   ],
   "source": [
    "plt1 = sns.lineplot(x=\"T\", y=\"X\", data=df1) #Plots graph of the effects of X over time"
   ]
  },
  {
   "cell_type": "code",
   "execution_count": 5,
   "metadata": {},
   "outputs": [
    {
     "data": {
      "image/png": "[encoded data removed]",
      "text/plain": [
       "<Figure size 432x288 with 1 Axes>"
      ]
     },
     "metadata": {
      "needs_background": "light"
     },
     "output_type": "display_data"
    }
   ],
   "source": [
    "plt2 = sns.lineplot(x=\"T\", y=\"U\", data=df1) # Plots graph on the effect of U Over Time"
   ]
  },
  {
   "cell_type": "code",
   "execution_count": 6,
   "metadata": {},
   "outputs": [
    {
     "data": {
      "text/plain": [
       "<matplotlib.axes._subplots.AxesSubplot at 0x12ce8090>"
      ]
     },
     "execution_count": 6,
     "metadata": {},
     "output_type": "execute_result"
    },
    {
     "data": {
      "image/png": "[encoded data removed]",
      "text/plain": [
       "<Figure size 432x288 with 1 Axes>"
      ]
     },
     "metadata": {
      "needs_background": "light"
     },
     "output_type": "display_data"
    }
   ],
   "source": [
    "plt1 = sns.lineplot(x=\"T\", y=\"X\", data=df1) #Plots Comparision Graph \n",
    "plt2 = sns.lineplot(x=\"T\", y=\"U\", data=df1)\n",
    "plt1\n",
    "plt2"
   ]
  },
  {
   "cell_type": "markdown",
   "metadata": {},
   "source": [
    "## Multiplot for Report "
   ]
  },
  {
   "cell_type": "code",
   "execution_count": 7,
   "metadata": {},
   "outputs": [],
   "source": [
    "df2 = Eulers(0,0,1,15,0) # Perform the Eulers method on those parameters and return a pandas dataframe\n",
    "df3 = Eulers(0,0,0.75,15,0) # Perform the Eulers method on those parameters and return a pandas dataframe\n",
    "df4 = Eulers(0,0,0.5,15,0) # Perform the Eulers method on those parameters and return a pandas dataframe\n",
    "df5 = Eulers(0,0,0.25,15,0) # Perform the Eulers method on those parameters and return a pandas dataframe\n",
    "df6 = Eulers(0,0,0.01,15,0) # Perform the Eulers method on those parameters and return a pandas dataframe\n",
    "df7 = Eulers(0,0,0.001,15,0) # Perform the Eulers method on those parameters and return a pandas dataframe"
   ]
  },
  {
   "cell_type": "code",
   "execution_count": 8,
   "metadata": {},
   "outputs": [
    {
     "data": {
      "image/png": "[encoded data removed]",
      "text/plain": [
       "<Figure size 432x288 with 1 Axes>"
      ]
     },
     "metadata": {
      "needs_background": "light"
     },
     "output_type": "display_data"
    }
   ],
   "source": [
    "plt3 = sns.lineplot(x=\"T\", y=\"U\", data=df2) #blue\n",
    "plt4 = sns.lineplot(x=\"T\", y=\"U\", data=df3) #Orange\n",
    "plt5 = sns.lineplot(x=\"T\", y=\"U\", data=df4) #Green\n",
    "plt6 = sns.lineplot(x=\"T\", y=\"U\", data=df5) #Red\n",
    "plt7 = sns.lineplot(x=\"T\", y=\"U\", data=df6) #Purple\n",
    "plt8 = sns.lineplot(x=\"T\", y=\"U\", data=df7) #Brown"
   ]
  },
  {
   "cell_type": "code",
   "execution_count": 9,
   "metadata": {},
   "outputs": [
    {
     "data": {
      "image/png": "[encoded data removed]",
      "text/plain": [
       "<Figure size 432x288 with 1 Axes>"
      ]
     },
     "metadata": {
      "needs_background": "light"
     },
     "output_type": "display_data"
    }
   ],
   "source": [
    "plt9 = sns.lineplot(x=\"T\", y=\"X\", data=df2) #Blue\n",
    "plt10 = sns.lineplot(x=\"T\", y=\"X\", data=df3) #Orange\n",
    "plt11 = sns.lineplot(x=\"T\", y=\"X\", data=df4) #Green\n",
    "plt12 = sns.lineplot(x=\"T\", y=\"X\", data=df5) #Red\n",
    "plt13 = sns.lineplot(x=\"T\", y=\"X\", data=df6) #Purple\n",
    "plt14 = sns.lineplot(x=\"T\", y=\"X\", data=df7) #Brown"
   ]
  },
  {
   "cell_type": "markdown",
   "metadata": {},
   "source": [
    "## Actual Plot for Report "
   ]
  },
  {
   "cell_type": "code",
   "execution_count": 10,
   "metadata": {
    "scrolled": false
   },
   "outputs": [
    {
     "data": {
      "text/html": [
       "<div>\n",
       "<style scoped>\n",
       "    .dataframe tbody tr th:only-of-type {\n",
       "        vertical-align: middle;\n",
       "    }\n",
       "\n",
       "    .dataframe tbody tr th {\n",
       "        vertical-align: top;\n",
       "    }\n",
       "\n",
       "    .dataframe thead th {\n",
       "        text-align: right;\n",
       "    }\n",
       "</style>\n",
       "<table border=\"1\" class=\"dataframe\">\n",
       "  <thead>\n",
       "    <tr style=\"text-align: right;\">\n",
       "      <th></th>\n",
       "      <th>T</th>\n",
       "      <th>XActual</th>\n",
       "      <th>U</th>\n",
       "    </tr>\n",
       "  </thead>\n",
       "  <tbody>\n",
       "    <tr>\n",
       "      <th>0</th>\n",
       "      <td>0.1</td>\n",
       "      <td>1.000000</td>\n",
       "      <td>2.0</td>\n",
       "    </tr>\n",
       "    <tr>\n",
       "      <th>1</th>\n",
       "      <td>0.2</td>\n",
       "      <td>1.181269</td>\n",
       "      <td>2.0</td>\n",
       "    </tr>\n",
       "    <tr>\n",
       "      <th>2</th>\n",
       "      <td>0.3</td>\n",
       "      <td>1.329680</td>\n",
       "      <td>2.0</td>\n",
       "    </tr>\n",
       "    <tr>\n",
       "      <th>3</th>\n",
       "      <td>0.4</td>\n",
       "      <td>1.451188</td>\n",
       "      <td>2.0</td>\n",
       "    </tr>\n",
       "    <tr>\n",
       "      <th>4</th>\n",
       "      <td>0.5</td>\n",
       "      <td>1.550671</td>\n",
       "      <td>2.0</td>\n",
       "    </tr>\n",
       "    <tr>\n",
       "      <th>...</th>\n",
       "      <td>...</td>\n",
       "      <td>...</td>\n",
       "      <td>...</td>\n",
       "    </tr>\n",
       "    <tr>\n",
       "      <th>146</th>\n",
       "      <td>14.7</td>\n",
       "      <td>3.000000</td>\n",
       "      <td>3.0</td>\n",
       "    </tr>\n",
       "    <tr>\n",
       "      <th>147</th>\n",
       "      <td>14.8</td>\n",
       "      <td>3.000000</td>\n",
       "      <td>3.0</td>\n",
       "    </tr>\n",
       "    <tr>\n",
       "      <th>148</th>\n",
       "      <td>14.9</td>\n",
       "      <td>3.000000</td>\n",
       "      <td>3.0</td>\n",
       "    </tr>\n",
       "    <tr>\n",
       "      <th>149</th>\n",
       "      <td>15.0</td>\n",
       "      <td>3.000000</td>\n",
       "      <td>3.0</td>\n",
       "    </tr>\n",
       "    <tr>\n",
       "      <th>150</th>\n",
       "      <td>15.1</td>\n",
       "      <td>3.000000</td>\n",
       "      <td>3.0</td>\n",
       "    </tr>\n",
       "  </tbody>\n",
       "</table>\n",
       "<p>151 rows × 3 columns</p>\n",
       "</div>"
      ],
      "text/plain": [
       "        T   XActual    U\n",
       "0     0.1  1.000000  2.0\n",
       "1     0.2  1.181269  2.0\n",
       "2     0.3  1.329680  2.0\n",
       "3     0.4  1.451188  2.0\n",
       "4     0.5  1.550671  2.0\n",
       "..    ...       ...  ...\n",
       "146  14.7  3.000000  3.0\n",
       "147  14.8  3.000000  3.0\n",
       "148  14.9  3.000000  3.0\n",
       "149  15.0  3.000000  3.0\n",
       "150  15.1  3.000000  3.0\n",
       "\n",
       "[151 rows x 3 columns]"
      ]
     },
     "execution_count": 10,
     "metadata": {},
     "output_type": "execute_result"
    }
   ],
   "source": [
    "dfactual2 = Actualplot (0,0,0.1,15) #plot the actual value of Initialx: 0, InitialY:0, Step: 0.1, time:15\n",
    "dfactual2 #display dataframe"
   ]
  },
  {
   "cell_type": "code",
   "execution_count": 11,
   "metadata": {},
   "outputs": [
    {
     "data": {
      "image/png": "[encoded data removed]",
      "text/plain": [
       "<Figure size 432x288 with 1 Axes>"
      ]
     },
     "metadata": {
      "needs_background": "light"
     },
     "output_type": "display_data"
    }
   ],
   "source": [
    "Actualplt = sns.lineplot(x=\"T\", y=\"XActual\", data=dfactual2)  #plot actual results"
   ]
  },
  {
   "cell_type": "markdown",
   "metadata": {},
   "source": [
    "# Part 2: Adding Noise to Simulation"
   ]
  },
  {
   "cell_type": "markdown",
   "metadata": {},
   "source": [
    "In order for a fair simulation a level of uncertainty should be added to the data to make predictions more accurate. If the model knows all the correct data then it could predict the exact result which is find but in the real world somethings can change beyond the control and without noise these changes won't be reflected in the simulation. \n",
    "\n",
    "below is the code to generate random numbers within a standard deviation of 0.01 and mean of 0 to give a normal distribution of random numbers. The Box Muller algorithm was used to generate these numbers."
   ]
  },
  {
   "cell_type": "markdown",
   "metadata": {},
   "source": [
    "## Box Muller Algorithm"
   ]
  },
  {
   "cell_type": "code",
   "execution_count": 12,
   "metadata": {
    "scrolled": false
   },
   "outputs": [],
   "source": [
    "standarddev = 0.1 #Target Standard Deviation\n",
    "meanx = 0 # Target Mean\n",
    "noise = [] #Noise array\n",
    "distz1 = [] # Array of distribution of random numbers without modification\n",
    "distb = [] #Slight modification of random numbers\n",
    "distz2 = [] #First Set of Random Numbers\n",
    "distz3 = [] #Second Set of Random Numbers\n",
    "\n",
    "for ind in df1.index: # For each record in the dataframe\n",
    "        z1 = random.uniform(0,2*np.pi) # generate a random number between 0 and 2*pi\n",
    "        distz1.append(z1) # append random numbers to z1 array\n",
    "        \n",
    "        #generate a random number between 0 and 1 uniformally generated\n",
    "        b = standarddev*math.sqrt(-2*math.log(random.uniform(0,1))) \n",
    "        distb.append(b) # append unformly generated numbers to array\n",
    "        \n",
    "        # calulate the sin of the first random number using the uniform number\n",
    "        z2 = b*math.sin(z1)+meanx \n",
    "        distz2 = [z2] #add random number 1 to array\n",
    "        \n",
    "        # calulate the cos of the Second random number using the uniform number\n",
    "        z3 = b*math.cos(z1)+meanx\n",
    "        distz3 = [z3] #add random number 2 to array\n",
    "        \n",
    "        Xnoise = z2 \n",
    "        Xnoise2 = z3 \n",
    "\n",
    "        noise.append(Xnoise)# Add random number 1 to Xnoise\n",
    "        noise.append(Xnoise2)# Add random number 2 to Xnoise"
   ]
  },
  {
   "cell_type": "markdown",
   "metadata": {},
   "source": [
    "## Distribution Plots of Random Numbers "
   ]
  },
  {
   "cell_type": "code",
   "execution_count": 13,
   "metadata": {},
   "outputs": [
    {
     "data": {
      "text/plain": [
       "<matplotlib.axes._subplots.AxesSubplot at 0x8867f0>"
      ]
     },
     "execution_count": 13,
     "metadata": {},
     "output_type": "execute_result"
    },
    {
     "data": {
      "image/png": "[encoded data removed]",
      "text/plain": [
       "<Figure size 432x288 with 1 Axes>"
      ]
     },
     "metadata": {
      "needs_background": "light"
     },
     "output_type": "display_data"
    }
   ],
   "source": [
    "sns.distplot(distz1) #Distribution of random numbers before box muller"
   ]
  },
  {
   "cell_type": "code",
   "execution_count": 14,
   "metadata": {},
   "outputs": [
    {
     "data": {
      "text/plain": [
       "<matplotlib.axes._subplots.AxesSubplot at 0x8a8eb0>"
      ]
     },
     "execution_count": 14,
     "metadata": {},
     "output_type": "execute_result"
    },
    {
     "data": {
      "image/png": "[encoded data removed]",
      "text/plain": [
       "<Figure size 432x288 with 1 Axes>"
      ]
     },
     "metadata": {
      "needs_background": "light"
     },
     "output_type": "display_data"
    }
   ],
   "source": [
    "sns.distplot(distb) #Distribution of Random Uniform Numbers between 0 and 1"
   ]
  },
  {
   "cell_type": "code",
   "execution_count": 15,
   "metadata": {},
   "outputs": [
    {
     "data": {
      "text/plain": [
       "<matplotlib.axes._subplots.AxesSubplot at 0x9219d0>"
      ]
     },
     "execution_count": 15,
     "metadata": {},
     "output_type": "execute_result"
    },
    {
     "data": {
      "image/png": "[encoded data removed]",
      "text/plain": [
       "<Figure size 432x288 with 1 Axes>"
      ]
     },
     "metadata": {
      "needs_background": "light"
     },
     "output_type": "display_data"
    }
   ],
   "source": [
    "sns.distplot(noise) #Distribution of Standardised Numbers"
   ]
  },
  {
   "cell_type": "markdown",
   "metadata": {},
   "source": [
    "## Add Noise to Dataframe"
   ]
  },
  {
   "cell_type": "code",
   "execution_count": 16,
   "metadata": {
    "scrolled": false
   },
   "outputs": [
    {
     "data": {
      "text/html": [
       "<div>\n",
       "<style scoped>\n",
       "    .dataframe tbody tr th:only-of-type {\n",
       "        vertical-align: middle;\n",
       "    }\n",
       "\n",
       "    .dataframe tbody tr th {\n",
       "        vertical-align: top;\n",
       "    }\n",
       "\n",
       "    .dataframe thead th {\n",
       "        text-align: right;\n",
       "    }\n",
       "</style>\n",
       "<table border=\"1\" class=\"dataframe\">\n",
       "  <thead>\n",
       "    <tr style=\"text-align: right;\">\n",
       "      <th></th>\n",
       "      <th>Noise</th>\n",
       "    </tr>\n",
       "  </thead>\n",
       "  <tbody>\n",
       "    <tr>\n",
       "      <th>0</th>\n",
       "      <td>0.014570</td>\n",
       "    </tr>\n",
       "    <tr>\n",
       "      <th>1</th>\n",
       "      <td>-0.159573</td>\n",
       "    </tr>\n",
       "    <tr>\n",
       "      <th>2</th>\n",
       "      <td>-0.011931</td>\n",
       "    </tr>\n",
       "    <tr>\n",
       "      <th>3</th>\n",
       "      <td>0.032289</td>\n",
       "    </tr>\n",
       "    <tr>\n",
       "      <th>4</th>\n",
       "      <td>0.015729</td>\n",
       "    </tr>\n",
       "    <tr>\n",
       "      <th>...</th>\n",
       "      <td>...</td>\n",
       "    </tr>\n",
       "    <tr>\n",
       "      <th>297</th>\n",
       "      <td>-0.017124</td>\n",
       "    </tr>\n",
       "    <tr>\n",
       "      <th>298</th>\n",
       "      <td>-0.053624</td>\n",
       "    </tr>\n",
       "    <tr>\n",
       "      <th>299</th>\n",
       "      <td>0.055144</td>\n",
       "    </tr>\n",
       "    <tr>\n",
       "      <th>300</th>\n",
       "      <td>-0.094671</td>\n",
       "    </tr>\n",
       "    <tr>\n",
       "      <th>301</th>\n",
       "      <td>-0.078504</td>\n",
       "    </tr>\n",
       "  </tbody>\n",
       "</table>\n",
       "<p>302 rows × 1 columns</p>\n",
       "</div>"
      ],
      "text/plain": [
       "        Noise\n",
       "0    0.014570\n",
       "1   -0.159573\n",
       "2   -0.011931\n",
       "3    0.032289\n",
       "4    0.015729\n",
       "..        ...\n",
       "297 -0.017124\n",
       "298 -0.053624\n",
       "299  0.055144\n",
       "300 -0.094671\n",
       "301 -0.078504\n",
       "\n",
       "[302 rows x 1 columns]"
      ]
     },
     "execution_count": 16,
     "metadata": {},
     "output_type": "execute_result"
    }
   ],
   "source": [
    "dfnoise = pd.DataFrame(noise) #Add noise to dataframe\n",
    "dfnoise.columns =['Noise'] #Rename Col to Noise\n",
    "dfnoise # Display Noise"
   ]
  },
  {
   "cell_type": "code",
   "execution_count": 17,
   "metadata": {
    "scrolled": false
   },
   "outputs": [
    {
     "data": {
      "text/html": [
       "<div>\n",
       "<style scoped>\n",
       "    .dataframe tbody tr th:only-of-type {\n",
       "        vertical-align: middle;\n",
       "    }\n",
       "\n",
       "    .dataframe tbody tr th {\n",
       "        vertical-align: top;\n",
       "    }\n",
       "\n",
       "    .dataframe thead th {\n",
       "        text-align: right;\n",
       "    }\n",
       "</style>\n",
       "<table border=\"1\" class=\"dataframe\">\n",
       "  <thead>\n",
       "    <tr style=\"text-align: right;\">\n",
       "      <th></th>\n",
       "      <th>T</th>\n",
       "      <th>X</th>\n",
       "      <th>U</th>\n",
       "      <th>Noise</th>\n",
       "    </tr>\n",
       "  </thead>\n",
       "  <tbody>\n",
       "    <tr>\n",
       "      <th>0</th>\n",
       "      <td>0.1</td>\n",
       "      <td>0.400000</td>\n",
       "      <td>2.0</td>\n",
       "      <td>0.014570</td>\n",
       "    </tr>\n",
       "    <tr>\n",
       "      <th>1</th>\n",
       "      <td>0.2</td>\n",
       "      <td>0.720000</td>\n",
       "      <td>2.0</td>\n",
       "      <td>-0.159573</td>\n",
       "    </tr>\n",
       "    <tr>\n",
       "      <th>2</th>\n",
       "      <td>0.3</td>\n",
       "      <td>0.976000</td>\n",
       "      <td>2.0</td>\n",
       "      <td>-0.011931</td>\n",
       "    </tr>\n",
       "    <tr>\n",
       "      <th>3</th>\n",
       "      <td>0.4</td>\n",
       "      <td>1.180800</td>\n",
       "      <td>2.0</td>\n",
       "      <td>0.032289</td>\n",
       "    </tr>\n",
       "    <tr>\n",
       "      <th>4</th>\n",
       "      <td>0.5</td>\n",
       "      <td>1.344640</td>\n",
       "      <td>2.0</td>\n",
       "      <td>0.015729</td>\n",
       "    </tr>\n",
       "    <tr>\n",
       "      <th>...</th>\n",
       "      <td>...</td>\n",
       "      <td>...</td>\n",
       "      <td>...</td>\n",
       "      <td>...</td>\n",
       "    </tr>\n",
       "    <tr>\n",
       "      <th>146</th>\n",
       "      <td>14.7</td>\n",
       "      <td>2.999930</td>\n",
       "      <td>3.0</td>\n",
       "      <td>-0.128981</td>\n",
       "    </tr>\n",
       "    <tr>\n",
       "      <th>147</th>\n",
       "      <td>14.8</td>\n",
       "      <td>2.999944</td>\n",
       "      <td>3.0</td>\n",
       "      <td>0.074551</td>\n",
       "    </tr>\n",
       "    <tr>\n",
       "      <th>148</th>\n",
       "      <td>14.9</td>\n",
       "      <td>2.999955</td>\n",
       "      <td>3.0</td>\n",
       "      <td>-0.028068</td>\n",
       "    </tr>\n",
       "    <tr>\n",
       "      <th>149</th>\n",
       "      <td>15.0</td>\n",
       "      <td>2.999964</td>\n",
       "      <td>3.0</td>\n",
       "      <td>0.100105</td>\n",
       "    </tr>\n",
       "    <tr>\n",
       "      <th>150</th>\n",
       "      <td>15.1</td>\n",
       "      <td>2.999971</td>\n",
       "      <td>3.0</td>\n",
       "      <td>0.003520</td>\n",
       "    </tr>\n",
       "  </tbody>\n",
       "</table>\n",
       "<p>151 rows × 4 columns</p>\n",
       "</div>"
      ],
      "text/plain": [
       "        T         X    U     Noise\n",
       "0     0.1  0.400000  2.0  0.014570\n",
       "1     0.2  0.720000  2.0 -0.159573\n",
       "2     0.3  0.976000  2.0 -0.011931\n",
       "3     0.4  1.180800  2.0  0.032289\n",
       "4     0.5  1.344640  2.0  0.015729\n",
       "..    ...       ...  ...       ...\n",
       "146  14.7  2.999930  3.0 -0.128981\n",
       "147  14.8  2.999944  3.0  0.074551\n",
       "148  14.9  2.999955  3.0 -0.028068\n",
       "149  15.0  2.999964  3.0  0.100105\n",
       "150  15.1  2.999971  3.0  0.003520\n",
       "\n",
       "[151 rows x 4 columns]"
      ]
     },
     "execution_count": 17,
     "metadata": {},
     "output_type": "execute_result"
    }
   ],
   "source": [
    "dfcount = df1['X'].count() # Find count of x (how many in dataframe)\n",
    "\n",
    "# add to dataframe the number of records in dataframe\n",
    "dfnoiseshortened = dfnoise[dfnoise[\"Noise\"].index < dfcount] \n",
    "\n",
    "df1['Noise'] = dfnoiseshortened # append noise to original dataframe\n",
    "df1 #show dataframe"
   ]
  },
  {
   "cell_type": "code",
   "execution_count": 18,
   "metadata": {},
   "outputs": [
    {
     "data": {
      "text/plain": [
       "<matplotlib.axes._subplots.AxesSubplot at 0x938430>"
      ]
     },
     "execution_count": 18,
     "metadata": {},
     "output_type": "execute_result"
    },
    {
     "data": {
      "image/png": "[encoded data removed]",
      "text/plain": [
       "<Figure size 432x288 with 1 Axes>"
      ]
     },
     "metadata": {
      "needs_background": "light"
     },
     "output_type": "display_data"
    }
   ],
   "source": [
    "sns.distplot(df1['Noise']) #check if shortened noise still has a normal distrbution"
   ]
  },
  {
   "cell_type": "code",
   "execution_count": 19,
   "metadata": {},
   "outputs": [
    {
     "data": {
      "text/html": [
       "<div>\n",
       "<style scoped>\n",
       "    .dataframe tbody tr th:only-of-type {\n",
       "        vertical-align: middle;\n",
       "    }\n",
       "\n",
       "    .dataframe tbody tr th {\n",
       "        vertical-align: top;\n",
       "    }\n",
       "\n",
       "    .dataframe thead th {\n",
       "        text-align: right;\n",
       "    }\n",
       "</style>\n",
       "<table border=\"1\" class=\"dataframe\">\n",
       "  <thead>\n",
       "    <tr style=\"text-align: right;\">\n",
       "      <th></th>\n",
       "      <th>T</th>\n",
       "      <th>X</th>\n",
       "      <th>U</th>\n",
       "      <th>Noise</th>\n",
       "      <th>xNoise</th>\n",
       "    </tr>\n",
       "  </thead>\n",
       "  <tbody>\n",
       "    <tr>\n",
       "      <th>0</th>\n",
       "      <td>0.1</td>\n",
       "      <td>0.400000</td>\n",
       "      <td>2.0</td>\n",
       "      <td>0.014570</td>\n",
       "      <td>0.414570</td>\n",
       "    </tr>\n",
       "    <tr>\n",
       "      <th>1</th>\n",
       "      <td>0.2</td>\n",
       "      <td>0.720000</td>\n",
       "      <td>2.0</td>\n",
       "      <td>-0.159573</td>\n",
       "      <td>0.560427</td>\n",
       "    </tr>\n",
       "    <tr>\n",
       "      <th>2</th>\n",
       "      <td>0.3</td>\n",
       "      <td>0.976000</td>\n",
       "      <td>2.0</td>\n",
       "      <td>-0.011931</td>\n",
       "      <td>0.964069</td>\n",
       "    </tr>\n",
       "    <tr>\n",
       "      <th>3</th>\n",
       "      <td>0.4</td>\n",
       "      <td>1.180800</td>\n",
       "      <td>2.0</td>\n",
       "      <td>0.032289</td>\n",
       "      <td>1.213089</td>\n",
       "    </tr>\n",
       "    <tr>\n",
       "      <th>4</th>\n",
       "      <td>0.5</td>\n",
       "      <td>1.344640</td>\n",
       "      <td>2.0</td>\n",
       "      <td>0.015729</td>\n",
       "      <td>1.360369</td>\n",
       "    </tr>\n",
       "    <tr>\n",
       "      <th>...</th>\n",
       "      <td>...</td>\n",
       "      <td>...</td>\n",
       "      <td>...</td>\n",
       "      <td>...</td>\n",
       "      <td>...</td>\n",
       "    </tr>\n",
       "    <tr>\n",
       "      <th>146</th>\n",
       "      <td>14.7</td>\n",
       "      <td>2.999930</td>\n",
       "      <td>3.0</td>\n",
       "      <td>-0.128981</td>\n",
       "      <td>2.870949</td>\n",
       "    </tr>\n",
       "    <tr>\n",
       "      <th>147</th>\n",
       "      <td>14.8</td>\n",
       "      <td>2.999944</td>\n",
       "      <td>3.0</td>\n",
       "      <td>0.074551</td>\n",
       "      <td>3.074495</td>\n",
       "    </tr>\n",
       "    <tr>\n",
       "      <th>148</th>\n",
       "      <td>14.9</td>\n",
       "      <td>2.999955</td>\n",
       "      <td>3.0</td>\n",
       "      <td>-0.028068</td>\n",
       "      <td>2.971887</td>\n",
       "    </tr>\n",
       "    <tr>\n",
       "      <th>149</th>\n",
       "      <td>15.0</td>\n",
       "      <td>2.999964</td>\n",
       "      <td>3.0</td>\n",
       "      <td>0.100105</td>\n",
       "      <td>3.100069</td>\n",
       "    </tr>\n",
       "    <tr>\n",
       "      <th>150</th>\n",
       "      <td>15.1</td>\n",
       "      <td>2.999971</td>\n",
       "      <td>3.0</td>\n",
       "      <td>0.003520</td>\n",
       "      <td>3.003492</td>\n",
       "    </tr>\n",
       "  </tbody>\n",
       "</table>\n",
       "<p>151 rows × 5 columns</p>\n",
       "</div>"
      ],
      "text/plain": [
       "        T         X    U     Noise    xNoise\n",
       "0     0.1  0.400000  2.0  0.014570  0.414570\n",
       "1     0.2  0.720000  2.0 -0.159573  0.560427\n",
       "2     0.3  0.976000  2.0 -0.011931  0.964069\n",
       "3     0.4  1.180800  2.0  0.032289  1.213089\n",
       "4     0.5  1.344640  2.0  0.015729  1.360369\n",
       "..    ...       ...  ...       ...       ...\n",
       "146  14.7  2.999930  3.0 -0.128981  2.870949\n",
       "147  14.8  2.999944  3.0  0.074551  3.074495\n",
       "148  14.9  2.999955  3.0 -0.028068  2.971887\n",
       "149  15.0  2.999964  3.0  0.100105  3.100069\n",
       "150  15.1  2.999971  3.0  0.003520  3.003492\n",
       "\n",
       "[151 rows x 5 columns]"
      ]
     },
     "execution_count": 19,
     "metadata": {},
     "output_type": "execute_result"
    }
   ],
   "source": [
    "XcombinedNoise =  df1['Noise'] + df1['X'] # Add Noise to the X value\n",
    "df1['xNoise'] = XcombinedNoise # Add XNoise to dataframe\n",
    "df1 #Display Dataframe"
   ]
  },
  {
   "cell_type": "code",
   "execution_count": 20,
   "metadata": {},
   "outputs": [
    {
     "data": {
      "text/html": [
       "<div>\n",
       "<style scoped>\n",
       "    .dataframe tbody tr th:only-of-type {\n",
       "        vertical-align: middle;\n",
       "    }\n",
       "\n",
       "    .dataframe tbody tr th {\n",
       "        vertical-align: top;\n",
       "    }\n",
       "\n",
       "    .dataframe thead th {\n",
       "        text-align: right;\n",
       "    }\n",
       "</style>\n",
       "<table border=\"1\" class=\"dataframe\">\n",
       "  <thead>\n",
       "    <tr style=\"text-align: right;\">\n",
       "      <th></th>\n",
       "      <th>T</th>\n",
       "      <th>X</th>\n",
       "      <th>U</th>\n",
       "      <th>Noise</th>\n",
       "      <th>xNoise</th>\n",
       "      <th>PercentageNoise</th>\n",
       "    </tr>\n",
       "  </thead>\n",
       "  <tbody>\n",
       "    <tr>\n",
       "      <th>0</th>\n",
       "      <td>0.1</td>\n",
       "      <td>0.400000</td>\n",
       "      <td>2.0</td>\n",
       "      <td>0.014570</td>\n",
       "      <td>0.414570</td>\n",
       "      <td>3.642574</td>\n",
       "    </tr>\n",
       "    <tr>\n",
       "      <th>1</th>\n",
       "      <td>0.2</td>\n",
       "      <td>0.720000</td>\n",
       "      <td>2.0</td>\n",
       "      <td>-0.159573</td>\n",
       "      <td>0.560427</td>\n",
       "      <td>-22.162852</td>\n",
       "    </tr>\n",
       "    <tr>\n",
       "      <th>2</th>\n",
       "      <td>0.3</td>\n",
       "      <td>0.976000</td>\n",
       "      <td>2.0</td>\n",
       "      <td>-0.011931</td>\n",
       "      <td>0.964069</td>\n",
       "      <td>-1.222412</td>\n",
       "    </tr>\n",
       "    <tr>\n",
       "      <th>3</th>\n",
       "      <td>0.4</td>\n",
       "      <td>1.180800</td>\n",
       "      <td>2.0</td>\n",
       "      <td>0.032289</td>\n",
       "      <td>1.213089</td>\n",
       "      <td>2.734498</td>\n",
       "    </tr>\n",
       "    <tr>\n",
       "      <th>4</th>\n",
       "      <td>0.5</td>\n",
       "      <td>1.344640</td>\n",
       "      <td>2.0</td>\n",
       "      <td>0.015729</td>\n",
       "      <td>1.360369</td>\n",
       "      <td>1.169746</td>\n",
       "    </tr>\n",
       "    <tr>\n",
       "      <th>...</th>\n",
       "      <td>...</td>\n",
       "      <td>...</td>\n",
       "      <td>...</td>\n",
       "      <td>...</td>\n",
       "      <td>...</td>\n",
       "      <td>...</td>\n",
       "    </tr>\n",
       "    <tr>\n",
       "      <th>146</th>\n",
       "      <td>14.7</td>\n",
       "      <td>2.999930</td>\n",
       "      <td>3.0</td>\n",
       "      <td>-0.128981</td>\n",
       "      <td>2.870949</td>\n",
       "      <td>-4.299460</td>\n",
       "    </tr>\n",
       "    <tr>\n",
       "      <th>147</th>\n",
       "      <td>14.8</td>\n",
       "      <td>2.999944</td>\n",
       "      <td>3.0</td>\n",
       "      <td>0.074551</td>\n",
       "      <td>3.074495</td>\n",
       "      <td>2.485087</td>\n",
       "    </tr>\n",
       "    <tr>\n",
       "      <th>148</th>\n",
       "      <td>14.9</td>\n",
       "      <td>2.999955</td>\n",
       "      <td>3.0</td>\n",
       "      <td>-0.028068</td>\n",
       "      <td>2.971887</td>\n",
       "      <td>-0.935621</td>\n",
       "    </tr>\n",
       "    <tr>\n",
       "      <th>149</th>\n",
       "      <td>15.0</td>\n",
       "      <td>2.999964</td>\n",
       "      <td>3.0</td>\n",
       "      <td>0.100105</td>\n",
       "      <td>3.100069</td>\n",
       "      <td>3.336876</td>\n",
       "    </tr>\n",
       "    <tr>\n",
       "      <th>150</th>\n",
       "      <td>15.1</td>\n",
       "      <td>2.999971</td>\n",
       "      <td>3.0</td>\n",
       "      <td>0.003520</td>\n",
       "      <td>3.003492</td>\n",
       "      <td>0.117343</td>\n",
       "    </tr>\n",
       "  </tbody>\n",
       "</table>\n",
       "<p>151 rows × 6 columns</p>\n",
       "</div>"
      ],
      "text/plain": [
       "        T         X    U     Noise    xNoise  PercentageNoise\n",
       "0     0.1  0.400000  2.0  0.014570  0.414570         3.642574\n",
       "1     0.2  0.720000  2.0 -0.159573  0.560427       -22.162852\n",
       "2     0.3  0.976000  2.0 -0.011931  0.964069        -1.222412\n",
       "3     0.4  1.180800  2.0  0.032289  1.213089         2.734498\n",
       "4     0.5  1.344640  2.0  0.015729  1.360369         1.169746\n",
       "..    ...       ...  ...       ...       ...              ...\n",
       "146  14.7  2.999930  3.0 -0.128981  2.870949        -4.299460\n",
       "147  14.8  2.999944  3.0  0.074551  3.074495         2.485087\n",
       "148  14.9  2.999955  3.0 -0.028068  2.971887        -0.935621\n",
       "149  15.0  2.999964  3.0  0.100105  3.100069         3.336876\n",
       "150  15.1  2.999971  3.0  0.003520  3.003492         0.117343\n",
       "\n",
       "[151 rows x 6 columns]"
      ]
     },
     "execution_count": 20,
     "metadata": {},
     "output_type": "execute_result"
    }
   ],
   "source": [
    "Noise = df1['Noise'] #fetch noise values\n",
    "X = df1['X'] #Fetch x values \n",
    "\n",
    "perc = (Noise/X  *100) # Calculate percentage x \n",
    "#perc = 100/(Noise+X)\n",
    "df1['PercentageNoise'] = perc #add percentage to dataframe\n",
    "df1 # display dataframe "
   ]
  },
  {
   "cell_type": "code",
   "execution_count": 21,
   "metadata": {},
   "outputs": [
    {
     "data": {
      "image/png": "[encoded data removed]",
      "text/plain": [
       "<Figure size 432x288 with 1 Axes>"
      ]
     },
     "metadata": {
      "needs_background": "light"
     },
     "output_type": "display_data"
    }
   ],
   "source": [
    "#Plot Effect Noise had on X (Increasing std to 0.1 makes the effect more evident)\n",
    "Noiseplt = sns.lineplot(x=\"T\", y=\"xNoise\", data=df1) "
   ]
  },
  {
   "cell_type": "markdown",
   "metadata": {},
   "source": [
    "# Part 3: Predicting the Robot"
   ]
  },
  {
   "cell_type": "code",
   "execution_count": 40,
   "metadata": {},
   "outputs": [],
   "source": [
    "Nosiedx  = df1['xNoise'].to_numpy()\n",
    "\n",
    "weight = 0.20653640140000007\n",
    "\n",
    "def predict(x, weight):\n",
    "    activation = 0 \n",
    "    activation = activation + x*weight\n",
    "    #print(activation)\n",
    "    return 1 if activation >= 0.0 else 0"
   ]
  },
  {
   "cell_type": "code",
   "execution_count": 41,
   "metadata": {
    "scrolled": false
   },
   "outputs": [],
   "source": [
    "#for x in Nosiedx:\n",
    "   # prediction = predict(x, weight)\n",
    "   # print(\"Expected=%d, Predicted=%d\" % (x, prediction))"
   ]
  },
  {
   "cell_type": "code",
   "execution_count": 42,
   "metadata": {},
   "outputs": [],
   "source": [
    "def predict_sigmoid(noise2,weights2):\n",
    "    activation2 = 0\n",
    "    activation2 +=(weights2*noise2)\n",
    "    activation2 = sigmoid_activation(activation2)\n",
    "    return activation2\n",
    "\n",
    "def sigmoid_activation(val):\n",
    "  sigmoid = 1/1+np.exp(-val)\n",
    "  return sigmoid"
   ]
  },
  {
   "cell_type": "code",
   "execution_count": 52,
   "metadata": {},
   "outputs": [],
   "source": [
    "def train_weights_step(array, lr, epoch):\n",
    "    network_out = []\n",
    "    weights = random.uniform(0,1)\n",
    "    for epoch in range(epoch):\n",
    "        for a in array:\n",
    "            prediction = predict(a,weights)\n",
    "            network_out.append(prediction)\n",
    "            delta = a - prediction\n",
    "            weights = weights + lr * delta * a\n",
    "            error = delta\n",
    "            #print('>epoch=%d, lrate=%.3f, error=%.3f' % (epoch, lr, error))\n",
    "    return network_out\n",
    "\n",
    "def train_weights_sigmoid(array, lr, epoch):\n",
    "    network_out = []\n",
    "    weights = random.uniform(0,1)\n",
    "    for epoch in range(epoch):\n",
    "        for a in array:\n",
    "            prediction = predict_sigmoid(a,weights)\n",
    "            network_out.append(prediction)\n",
    "            delta = a - prediction\n",
    "            weights = weights + lr * delta * a\n",
    "            error = delta\n",
    "            #print('>epoch=%d, lrate=%.3f, error=%.3f' % (epoch, lr, error))\n",
    "    return network_out"
   ]
  },
  {
   "cell_type": "code",
   "execution_count": 53,
   "metadata": {
    "scrolled": false
   },
   "outputs": [],
   "source": [
    "SigmoidPerceptron = train_weights_sigmoid(Nosiedx,0.00000506,1)"
   ]
  },
  {
   "cell_type": "code",
   "execution_count": 54,
   "metadata": {
    "scrolled": false
   },
   "outputs": [],
   "source": [
    "StepPerceptron = train_weights_step(Nosiedx,0.00000506,1)"
   ]
  },
  {
   "cell_type": "code",
   "execution_count": 55,
   "metadata": {},
   "outputs": [],
   "source": [
    "df1['StepPerceptron'] = StepPerceptron\n",
    "df1['SigmoidPerceptron'] = SigmoidPerceptron"
   ]
  },
  {
   "cell_type": "code",
   "execution_count": 56,
   "metadata": {},
   "outputs": [
    {
     "data": {
      "image/png": "[encoded data removed]",
      "text/plain": [
       "<Figure size 432x288 with 1 Axes>"
      ]
     },
     "metadata": {
      "needs_background": "light"
     },
     "output_type": "display_data"
    }
   ],
   "source": [
    "Noiseplt = sns.lineplot(x=\"T\", y=\"X\", data=df1) \n",
    "Sigmoid = sns.lineplot(x=\"T\", y=\"SigmoidPerceptron\", data=df1) "
   ]
  },
  {
   "cell_type": "code",
   "execution_count": 57,
   "metadata": {},
   "outputs": [
    {
     "data": {
      "image/png": "[encoded data removed]",
      "text/plain": [
       "<Figure size 432x288 with 1 Axes>"
      ]
     },
     "metadata": {
      "needs_background": "light"
     },
     "output_type": "display_data"
    }
   ],
   "source": [
    "Noiseplt = sns.lineplot(x=\"T\", y=\"X\", data=df1) \n",
    "Sigmoid = sns.lineplot(x=\"T\", y=\"StepPerceptron\", data=df1) "
   ]
  },
  {
   "cell_type": "code",
   "execution_count": null,
   "metadata": {},
   "outputs": [],
   "source": []
  },
  {
   "cell_type": "code",
   "execution_count": null,
   "metadata": {},
   "outputs": [],
   "source": []
  },
  {
   "cell_type": "code",
   "execution_count": null,
   "metadata": {},
   "outputs": [],
   "source": []
  },
  {
   "cell_type": "code",
   "execution_count": null,
   "metadata": {},
   "outputs": [],
   "source": []
  }
 ],
 "metadata": {
  "kernelspec": {
   "display_name": "Python 3",
   "language": "python",
   "name": "python3"
  },
  "language_info": {
   "codemirror_mode": {
    "name": "ipython",
    "version": 3
   },
   "file_extension": ".py",
   "mimetype": "text/x-python",
   "name": "python",
   "nbconvert_exporter": "python",
   "pygments_lexer": "ipython3",
   "version": "3.7.3"
  }
 },
 "nbformat": 4,
 "nbformat_minor": 2
}
