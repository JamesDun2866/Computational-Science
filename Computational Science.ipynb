{
 "cells": [
  {
   "cell_type": "markdown",
   "metadata": {},
   "source": [
    "# Computational Science"
   ]
  },
  {
   "cell_type": "markdown",
   "metadata": {},
   "source": [
    "## Imports "
   ]
  },
  {
   "cell_type": "code",
   "execution_count": 36,
   "metadata": {},
   "outputs": [],
   "source": [
    "import pandas as pd #Import Pandas for Dataframes\n",
    "import seaborn as sns #Import Seaborn for Graphs\n",
    "import numpy as numpy"
   ]
  },
  {
   "cell_type": "markdown",
   "metadata": {},
   "source": [
    "# Part 1: Simulating the Robot in 2D Space"
   ]
  },
  {
   "cell_type": "markdown",
   "metadata": {},
   "source": [
    "## Eulers Algorithm"
   ]
  },
  {
   "cell_type": "markdown",
   "metadata": {},
   "source": [
    "![Eulers](https://i.imgur.com/MPAQeOI.jpg)"
   ]
  },
  {
   "cell_type": "markdown",
   "metadata": {},
   "source": [
    "Eulers Algorithm is Used to calulate where the robot is in 2D Space given a set of co-ordinates, a max time and a step size. It calulates the position of x by performing F = -2x+2U Where U is the current step and x is the position. it does this for each step untill the max time is hit. This can then be plotted to give a location and path of the robot in 2D space. By solving the differential equations the robot can be tracked in the space. "
   ]
  },
  {
   "cell_type": "code",
   "execution_count": 27,
   "metadata": {
    "scrolled": false
   },
   "outputs": [],
   "source": [
    "def EulersEquation(U,x): # Eulers Equation  F = -2X+2U used to calulate the value of x in the full algorithm \n",
    "    f = -2*x +2*U #Performs the equation \n",
    "    return f # Returns the value\n",
    "\n",
    "def IntergationCount (h,i): # Integration Count is used to calulate the difference between the Step size and the sample integral\n",
    "    OGStep = h # Sets the Original Step size to the value of the step size (this changes later so needs to be constant)\n",
    "    Count  = 0 # Set count varible to 0, This will be the difference\n",
    "    S = False # set Start to False \n",
    "    if (i == 0):  # if the Sample Integral is not set set S to True\n",
    "        S = True\n",
    "\n",
    "    while S == False: # If the sample integral is set calculate the difference\n",
    "        Count = Count + 1\n",
    "        if (Count*OGStep == i): #verify if integral size is the correct amount then shut the gate\n",
    "            S = True\n",
    "            \n",
    "    return Count #return the sample size\n",
    "\n",
    "def Eulers(a,b,h,T,i): #Take in XInit,YInit, Step Size, Time and Sample Intergal\n",
    "    df1 = pd.DataFrame({\"T\":[],\"X\":[],\"U\":[]}) #declare dataframe structure \n",
    "    t =a #Set Time at position 0, Can be higher based on inital Entry\n",
    "    x= b  # Set x at position 0, Can be higher based on inital Entry\n",
    "    Count = 0 #set count to 0 used in determing how many to print based on the sample size\n",
    "    \n",
    "    IntegrationCount = IntergationCount(h,i) #Calculate the sample size \n",
    "    \n",
    "    while t<=T: #while Current time < initial time\n",
    "        if (t<0 or t<=5): #Set rotbot direction (U) based on where the time is\n",
    "            U = 2\n",
    "        elif (t<5 or t<=10):\n",
    "            U = 1\n",
    "        elif (t<10 or t<=15):\n",
    "            U =3\n",
    "    \n",
    "        k = h*EulersEquation(U,x) #perform equation stated in the method Eulers Eqation\n",
    "        x = x +k # add predition to the x value (Plotted later)\n",
    "        t = t+h #increase step for next result\n",
    "        Count = Count + 1 # increase count for integral\n",
    "        \n",
    "        if (Count >= IntegrationCount): # if the count is at the integral amount add to dataframe\n",
    "            df2 = pd.DataFrame({\"T\":[t],\"X\":[x],\"U\":[U]}) #get result of eulers in dataframe based on integral steps\n",
    "            df1 = df1.append(df2) #append to dataframe\n",
    "            Count = 0 #reset the count to 0\n",
    "            \n",
    "    df1.reset_index(inplace=True) # reset the index broken by appending 2 dataframes\n",
    "    df1 = df1.drop(columns=['index']) #drop the inital index column (Blank)\n",
    "    return df1 # return dataframe "
   ]
  },
  {
   "cell_type": "markdown",
   "metadata": {},
   "source": [
    "## Perform Eulers "
   ]
  },
  {
   "cell_type": "markdown",
   "metadata": {},
   "source": [
    "(Returns as Pandas Dataframe)"
   ]
  },
  {
   "cell_type": "code",
   "execution_count": 28,
   "metadata": {
    "scrolled": false
   },
   "outputs": [
    {
     "name": "stdout",
     "output_type": "stream",
     "text": [
      "Enter xInitial\n",
      "0\n",
      "Enter yInitial\n",
      "0\n",
      "Enter Step Size\n",
      "0.1\n",
      "Enter Time\n",
      "15\n",
      "Enter Sample Integral (To Print all put 0 )\n",
      "0\n"
     ]
    },
    {
     "data": {
      "text/html": [
       "<div>\n",
       "<style scoped>\n",
       "    .dataframe tbody tr th:only-of-type {\n",
       "        vertical-align: middle;\n",
       "    }\n",
       "\n",
       "    .dataframe tbody tr th {\n",
       "        vertical-align: top;\n",
       "    }\n",
       "\n",
       "    .dataframe thead th {\n",
       "        text-align: right;\n",
       "    }\n",
       "</style>\n",
       "<table border=\"1\" class=\"dataframe\">\n",
       "  <thead>\n",
       "    <tr style=\"text-align: right;\">\n",
       "      <th></th>\n",
       "      <th>T</th>\n",
       "      <th>X</th>\n",
       "      <th>U</th>\n",
       "    </tr>\n",
       "  </thead>\n",
       "  <tbody>\n",
       "    <tr>\n",
       "      <th>0</th>\n",
       "      <td>0.1</td>\n",
       "      <td>0.400000</td>\n",
       "      <td>2.0</td>\n",
       "    </tr>\n",
       "    <tr>\n",
       "      <th>1</th>\n",
       "      <td>0.2</td>\n",
       "      <td>0.720000</td>\n",
       "      <td>2.0</td>\n",
       "    </tr>\n",
       "    <tr>\n",
       "      <th>2</th>\n",
       "      <td>0.3</td>\n",
       "      <td>0.976000</td>\n",
       "      <td>2.0</td>\n",
       "    </tr>\n",
       "    <tr>\n",
       "      <th>3</th>\n",
       "      <td>0.4</td>\n",
       "      <td>1.180800</td>\n",
       "      <td>2.0</td>\n",
       "    </tr>\n",
       "    <tr>\n",
       "      <th>4</th>\n",
       "      <td>0.5</td>\n",
       "      <td>1.344640</td>\n",
       "      <td>2.0</td>\n",
       "    </tr>\n",
       "    <tr>\n",
       "      <th>...</th>\n",
       "      <td>...</td>\n",
       "      <td>...</td>\n",
       "      <td>...</td>\n",
       "    </tr>\n",
       "    <tr>\n",
       "      <th>146</th>\n",
       "      <td>14.7</td>\n",
       "      <td>2.999930</td>\n",
       "      <td>3.0</td>\n",
       "    </tr>\n",
       "    <tr>\n",
       "      <th>147</th>\n",
       "      <td>14.8</td>\n",
       "      <td>2.999944</td>\n",
       "      <td>3.0</td>\n",
       "    </tr>\n",
       "    <tr>\n",
       "      <th>148</th>\n",
       "      <td>14.9</td>\n",
       "      <td>2.999955</td>\n",
       "      <td>3.0</td>\n",
       "    </tr>\n",
       "    <tr>\n",
       "      <th>149</th>\n",
       "      <td>15.0</td>\n",
       "      <td>2.999964</td>\n",
       "      <td>3.0</td>\n",
       "    </tr>\n",
       "    <tr>\n",
       "      <th>150</th>\n",
       "      <td>15.1</td>\n",
       "      <td>2.999971</td>\n",
       "      <td>3.0</td>\n",
       "    </tr>\n",
       "  </tbody>\n",
       "</table>\n",
       "<p>151 rows × 3 columns</p>\n",
       "</div>"
      ],
      "text/plain": [
       "        T         X    U\n",
       "0     0.1  0.400000  2.0\n",
       "1     0.2  0.720000  2.0\n",
       "2     0.3  0.976000  2.0\n",
       "3     0.4  1.180800  2.0\n",
       "4     0.5  1.344640  2.0\n",
       "..    ...       ...  ...\n",
       "146  14.7  2.999930  3.0\n",
       "147  14.8  2.999944  3.0\n",
       "148  14.9  2.999955  3.0\n",
       "149  15.0  2.999964  3.0\n",
       "150  15.1  2.999971  3.0\n",
       "\n",
       "[151 rows x 3 columns]"
      ]
     },
     "execution_count": 28,
     "metadata": {},
     "output_type": "execute_result"
    }
   ],
   "source": [
    "print (\"Enter xInitial\") # Ask the user to input Initial X Value\n",
    "xInit = float (input())\n",
    "print (\"Enter yInitial\") # Ask the user to input Initial Y Value\n",
    "yInit = float (input())\n",
    "print (\"Enter Step Size\") # Ask the user to input Step Size\n",
    "Step = float (input())\n",
    "print (\"Enter Time\") # Ask the user to input Time Value\n",
    "Time = float (input()) \n",
    "print (\"Enter Sample Integral (To Print all put 0 )\") # Ask the user to input Sample Value\n",
    "Integration = float (input())\n",
    "\n",
    "\n",
    "df1 = Eulers(xInit,yInit,Step,Time,Integration) # Perform the Eulers method on those parameters and return a pandas dataframe\n",
    "df1"
   ]
  },
  {
   "cell_type": "markdown",
   "metadata": {},
   "source": [
    "### Export to CSV (if required)"
   ]
  },
  {
   "cell_type": "code",
   "execution_count": 29,
   "metadata": {},
   "outputs": [
    {
     "name": "stdout",
     "output_type": "stream",
     "text": [
      "Please Enter Filepath to save to CSV\n",
      "C:\\Users\\James\\Desktop\n"
     ]
    }
   ],
   "source": [
    "print (\"Please Enter Filepath to save to CSV\") # Asks for filepath where user wants to save CSV File\n",
    "filepath = input()\n",
    "#export_csv = df1.to_csv (filepath + \"\\ComputationalRobot.csv\") #Saves CSV based on input"
   ]
  },
  {
   "cell_type": "markdown",
   "metadata": {},
   "source": [
    "## Plot graphs"
   ]
  },
  {
   "cell_type": "markdown",
   "metadata": {},
   "source": [
    "Upper and lower limits for x is 3 and 0, which is in alignment with the upper limit for U (Robot) this means they fit in the same scale and follow a similar path to each other. This can be demonstated by the follwoing graphs"
   ]
  },
  {
   "cell_type": "code",
   "execution_count": 30,
   "metadata": {},
   "outputs": [
    {
     "data": {
      "image/png": "[encoded data removed]",
      "text/plain": [
       "<Figure size 432x288 with 1 Axes>"
      ]
     },
     "metadata": {
      "needs_background": "light"
     },
     "output_type": "display_data"
    }
   ],
   "source": [
    "plt1 = sns.lineplot(x=\"T\", y=\"X\", data=df1) #Plots graph of the effects of X over time"
   ]
  },
  {
   "cell_type": "code",
   "execution_count": 31,
   "metadata": {},
   "outputs": [
    {
     "data": {
      "image/png": "[encoded data removed]",
      "text/plain": [
       "<Figure size 432x288 with 1 Axes>"
      ]
     },
     "metadata": {
      "needs_background": "light"
     },
     "output_type": "display_data"
    }
   ],
   "source": [
    "plt2 = sns.lineplot(x=\"T\", y=\"U\", data=df1) # Plots graph on the effect of U Over Time"
   ]
  },
  {
   "cell_type": "code",
   "execution_count": 32,
   "metadata": {},
   "outputs": [
    {
     "data": {
      "text/plain": [
       "<matplotlib.axes._subplots.AxesSubplot at 0x14f0750>"
      ]
     },
     "execution_count": 32,
     "metadata": {},
     "output_type": "execute_result"
    },
    {
     "data": {
      "image/png": "[encoded data removed]",
      "text/plain": [
       "<Figure size 432x288 with 1 Axes>"
      ]
     },
     "metadata": {
      "needs_background": "light"
     },
     "output_type": "display_data"
    }
   ],
   "source": [
    "plt1 = sns.lineplot(x=\"T\", y=\"X\", data=df1) #Plots Comparision Graph \n",
    "plt2 = sns.lineplot(x=\"T\", y=\"U\", data=df1)\n",
    "plt1\n",
    "plt2"
   ]
  },
  {
   "cell_type": "markdown",
   "metadata": {},
   "source": [
    "## Multiplot for Report "
   ]
  },
  {
   "cell_type": "code",
   "execution_count": 33,
   "metadata": {},
   "outputs": [],
   "source": [
    "df2 = Eulers(0,0,1,15,0) # Perform the Eulers method on those parameters and return a pandas dataframe\n",
    "df3 = Eulers(0,0,0.75,15,0) # Perform the Eulers method on those parameters and return a pandas dataframe\n",
    "df4 = Eulers(0,0,0.5,15,0) # Perform the Eulers method on those parameters and return a pandas dataframe\n",
    "df5 = Eulers(0,0,0.25,15,0) # Perform the Eulers method on those parameters and return a pandas dataframe\n",
    "df6 = Eulers(0,0,0.01,15,0) # Perform the Eulers method on those parameters and return a pandas dataframe\n",
    "df7 = Eulers(0,0,0.001,15,0) # Perform the Eulers method on those parameters and return a pandas dataframe"
   ]
  },
  {
   "cell_type": "code",
   "execution_count": 34,
   "metadata": {},
   "outputs": [
    {
     "data": {
      "image/png": "[encoded data removed]",
      "text/plain": [
       "<Figure size 432x288 with 1 Axes>"
      ]
     },
     "metadata": {
      "needs_background": "light"
     },
     "output_type": "display_data"
    }
   ],
   "source": [
    "plt3 = sns.lineplot(x=\"T\", y=\"U\", data=df2) #blue\n",
    "plt4 = sns.lineplot(x=\"T\", y=\"U\", data=df3) #Orange\n",
    "plt5 = sns.lineplot(x=\"T\", y=\"U\", data=df4) #Green\n",
    "plt6 = sns.lineplot(x=\"T\", y=\"U\", data=df5) #Red\n",
    "plt7 = sns.lineplot(x=\"T\", y=\"U\", data=df6) #Purple\n",
    "plt8 = sns.lineplot(x=\"T\", y=\"U\", data=df7) #Brown"
   ]
  },
  {
   "cell_type": "code",
   "execution_count": 35,
   "metadata": {},
   "outputs": [
    {
     "data": {
      "image/png": "[encoded data removed]",
      "text/plain": [
       "<Figure size 432x288 with 1 Axes>"
      ]
     },
     "metadata": {
      "needs_background": "light"
     },
     "output_type": "display_data"
    }
   ],
   "source": [
    "plt9 = sns.lineplot(x=\"T\", y=\"X\", data=df2) #Blue\n",
    "plt10 = sns.lineplot(x=\"T\", y=\"X\", data=df3) #Orange\n",
    "plt11 = sns.lineplot(x=\"T\", y=\"X\", data=df4) #Green\n",
    "plt12 = sns.lineplot(x=\"T\", y=\"X\", data=df5) #Red\n",
    "plt13 = sns.lineplot(x=\"T\", y=\"X\", data=df6) #Purple\n",
    "plt14 = sns.lineplot(x=\"T\", y=\"X\", data=df7) #Brown"
   ]
  },
  {
   "cell_type": "markdown",
   "metadata": {},
   "source": [
    "# Part 2: Adding Noise to Simulation"
   ]
  },
  {
   "cell_type": "code",
   "execution_count": 68,
   "metadata": {
    "scrolled": true
   },
   "outputs": [
    {
     "ename": "TypeError",
     "evalue": "'float' object cannot be interpreted as an integer",
     "output_type": "error",
     "traceback": [
      "\u001b[1;31m---------------------------------------------------------------------------\u001b[0m",
      "\u001b[1;31mTypeError\u001b[0m                                 Traceback (most recent call last)",
      "\u001b[1;32m<ipython-input-68-0b47eb58826c>\u001b[0m in \u001b[0;36m<module>\u001b[1;34m\u001b[0m\n\u001b[0;32m      1\u001b[0m \u001b[0mit\u001b[0m \u001b[1;33m=\u001b[0m \u001b[1;36m0\u001b[0m\u001b[1;33m\u001b[0m\u001b[1;33m\u001b[0m\u001b[0m\n\u001b[0;32m      2\u001b[0m \u001b[1;32mif\u001b[0m \u001b[1;33m(\u001b[0m\u001b[0mit\u001b[0m \u001b[1;33m==\u001b[0m \u001b[1;36m0\u001b[0m\u001b[1;33m)\u001b[0m\u001b[1;33m:\u001b[0m\u001b[1;33m\u001b[0m\u001b[1;33m\u001b[0m\u001b[0m\n\u001b[1;32m----> 3\u001b[1;33m     \u001b[0mz1\u001b[0m \u001b[1;33m=\u001b[0m \u001b[0mrandom\u001b[0m\u001b[1;33m.\u001b[0m\u001b[0mrand\u001b[0m\u001b[1;33m(\u001b[0m\u001b[1;36m0\u001b[0m\u001b[1;33m,\u001b[0m\u001b[1;36m2\u001b[0m\u001b[1;33m*\u001b[0m\u001b[0mpi\u001b[0m\u001b[1;33m)\u001b[0m\u001b[1;33m\u001b[0m\u001b[1;33m\u001b[0m\u001b[0m\n\u001b[0m\u001b[0;32m      4\u001b[0m \u001b[1;33m\u001b[0m\u001b[0m\n",
      "\u001b[1;32mmtrand.pyx\u001b[0m in \u001b[0;36mnumpy.random.mtrand.RandomState.rand\u001b[1;34m()\u001b[0m\n",
      "\u001b[1;32mmtrand.pyx\u001b[0m in \u001b[0;36mnumpy.random.mtrand.RandomState.random_sample\u001b[1;34m()\u001b[0m\n",
      "\u001b[1;32mcommon.pyx\u001b[0m in \u001b[0;36mnumpy.random.common.double_fill\u001b[1;34m()\u001b[0m\n",
      "\u001b[1;31mTypeError\u001b[0m: 'float' object cannot be interpreted as an integer"
     ]
    }
   ],
   "source": [
    "it = 0\n",
    "if (it == 0):\n",
    "    z1 = random.rand(0,2*pi)\n",
    "    "
   ]
  },
  {
   "cell_type": "code",
   "execution_count": null,
   "metadata": {},
   "outputs": [],
   "source": []
  },
  {
   "cell_type": "code",
   "execution_count": null,
   "metadata": {},
   "outputs": [],
   "source": []
  }
 ],
 "metadata": {
  "kernelspec": {
   "display_name": "Python 3",
   "language": "python",
   "name": "python3"
  },
  "language_info": {
   "codemirror_mode": {
    "name": "ipython",
    "version": 3
   },
   "file_extension": ".py",
   "mimetype": "text/x-python",
   "name": "python",
   "nbconvert_exporter": "python",
   "pygments_lexer": "ipython3",
   "version": "3.7.4"
  }
 },
 "nbformat": 4,
 "nbformat_minor": 2
}
