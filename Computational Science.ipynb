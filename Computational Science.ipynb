{
 "cells": [
  {
   "cell_type": "markdown",
   "metadata": {},
   "source": [
    "# Eulers Method"
   ]
  },
  {
   "cell_type": "code",
   "execution_count": 22,
   "metadata": {},
   "outputs": [],
   "source": [
    "def Equation(U,x):\n",
    "    f = -(x + x) + U + U\n",
    "    return f"
   ]
  },
  {
   "cell_type": "code",
   "execution_count": 39,
   "metadata": {
    "scrolled": false
   },
   "outputs": [
    {
     "name": "stdout",
     "output_type": "stream",
     "text": [
      "Enter h,xn\n",
      "5\n",
      "7\n",
      "5.0 20.0\n",
      "10.0 -160.0\n"
     ]
    }
   ],
   "source": [
    "print (\"Enter h,xn\")\n",
    "\n",
    "a = 0 #inital pos\n",
    "b = 0 # initial pos\n",
    "h = float (input()) # step size\n",
    "T = float (input()) #time\n",
    "\n",
    "t =a #time at pos 0\n",
    "x= b  #inital on x\n",
    "\n",
    "while t<=T: #while time < initial time\n",
    "    if (t<0 or t<=5):\n",
    "        U = 2\n",
    "    elif (t<5 or t<=10):\n",
    "        U = 1\n",
    "    elif (t<10 or t<=15):\n",
    "        U =3\n",
    "    \n",
    "    k = h*Equation(U,x) #perform equation\n",
    "    x = x +k # add predition \n",
    "    t = t+h #increase step \n",
    "    print(t,x) # print values "
   ]
  },
  {
   "cell_type": "code",
   "execution_count": null,
   "metadata": {},
   "outputs": [],
   "source": []
  }
 ],
 "metadata": {
  "kernelspec": {
   "display_name": "Python 3",
   "language": "python",
   "name": "python3"
  },
  "language_info": {
   "codemirror_mode": {
    "name": "ipython",
    "version": 3
   },
   "file_extension": ".py",
   "mimetype": "text/x-python",
   "name": "python",
   "nbconvert_exporter": "python",
   "pygments_lexer": "ipython3",
   "version": "3.7.3"
  }
 },
 "nbformat": 4,
 "nbformat_minor": 2
}
