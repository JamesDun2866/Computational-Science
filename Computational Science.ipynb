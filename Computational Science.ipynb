{
 "cells": [
  {
   "cell_type": "markdown",
   "metadata": {},
   "source": [
    "# Computational Science"
   ]
  },
  {
   "cell_type": "markdown",
   "metadata": {},
   "source": [
    "## Imports "
   ]
  },
  {
   "cell_type": "code",
   "execution_count": 1,
   "metadata": {},
   "outputs": [],
   "source": [
    "import pandas as pd #Import Pandas for Dataframes\n",
    "import seaborn as sns #Import Seaborn for Graphs\n",
    "import numpy as np #Import numpy for arrays\n",
    "import math # Import Math for Sqrt,cos and Sin\n",
    "import random # Import Random for Random Number Generation\n",
    "import matplotlib.pyplot as plt #Plot Graphs"
   ]
  },
  {
   "cell_type": "markdown",
   "metadata": {},
   "source": [
    "# Part 1: Simulating the Robot in 2D Space"
   ]
  },
  {
   "cell_type": "markdown",
   "metadata": {},
   "source": [
    "## Eulers Algorithm"
   ]
  },
  {
   "cell_type": "code",
   "execution_count": 2,
   "metadata": {
    "scrolled": false
   },
   "outputs": [],
   "source": [
    "def EulersEquation(U,x): # Eulers Equation  F = -2X+2U used to calulate the value of x in the full algorithm \n",
    "    f = -2*x +2*U #Performs the equation \n",
    "    return f # Returns the value\n",
    "   \n",
    "\n",
    "def IntergationCount (h,i): # Integration Count is used to calulate the difference between the Step size and the sample integral\n",
    "    OGStep = h # Sets the Original Step size to the value of the step size (this changes later so needs to be constant)\n",
    "    Count  = 0 # Set count varible to 0, This will be the difference\n",
    "    S = False # set Start to False \n",
    "    if (i == 0):  # if the Sample Integral is not set set S to True\n",
    "        S = True\n",
    "\n",
    "    while S == False: # If the sample integral is set calculate the difference\n",
    "        Count = Count + 1\n",
    "        if (Count*OGStep == i): #verify if integral size is the correct amount then shut the gate\n",
    "            S = True\n",
    "            \n",
    "    return Count #return the sample size\n",
    "\n",
    "def Eulers(a,b,h,T,i): #Take in XInit,YInit, Step Size, Time and Sample Intergal\n",
    "    df1 = pd.DataFrame({\"T\":[],\"X\":[],\"U\":[]}) #declare dataframe structure \n",
    "    t =a #Set Time at position 0, Can be higher based on inital Entry\n",
    "    x= b  # Set x at position 0, Can be higher based on inital Entry\n",
    "    Count = 0 #set count to 0 used in determing how many to print based on the sample size\n",
    "    \n",
    "    IntegrationCount = IntergationCount(h,i) #Calculate the sample size \n",
    "    \n",
    "    while t<T: #while Current time < initial time\n",
    "        if (t<0 or t<=5): #Set rotbot direction (U) based on where the time is\n",
    "            U = 2\n",
    "        elif (t<5 or t<=10):\n",
    "            U = 1\n",
    "        elif (t<10 or t<=15):\n",
    "            U =3\n",
    "    \n",
    "        k = h*EulersEquation(U,x) #perform equation stated in the method Eulers Eqation\n",
    "        x = x +k # add predition to the x value (Plotted later)\n",
    "        t = t+h #increase step for next result\n",
    "        Count = Count + 1 # increase count for integral\n",
    "        \n",
    "        if (Count >= IntegrationCount): # if the count is at the integral amount add to dataframe\n",
    "            df2 = pd.DataFrame({\"T\":[t],\"X\":[x],\"U\":[U]}) #get result of eulers in dataframe based on integral steps\n",
    "            df1 = df1.append(df2) #append to dataframe\n",
    "            Count = 0 #reset the count to 0\n",
    "            \n",
    "    df1.reset_index(inplace=True) # reset the index broken by appending 2 dataframes\n",
    "    df1 = df1.drop(columns=['index']) #drop the inital index column (Blank)\n",
    "    return df1 # return dataframe \n",
    "\n",
    "def Actual(U,t): #The equation which plots the actual results for the time\n",
    "    mathst = t*2 # time x2 \n",
    "    eqat = U - math.exp(-mathst) #U - the exponential of t*2 \n",
    "    return eqat # return the completed equation\n",
    "\n",
    "def Actualplot(a,b,h,T): #Plot the actual values \n",
    "    dfActual = pd.DataFrame({\"T\":[],\"XActual\":[],\"U\":[]}) #Declare the dataframe\n",
    "    t =a  # set current time to 0\n",
    "    x= b #set x at position 0\n",
    "    \n",
    "    \n",
    "    while t<=T: #while Current time < initial time\n",
    "        if (t<0 or t<=5):#Set rotbot direction (U) based on where the time is\n",
    "            U = 2\n",
    "        elif (t<5 or t<=10):\n",
    "            U = 1\n",
    "        elif (t<10 or t<=15):\n",
    "            U =3\n",
    "    \n",
    "        k = Actual(U,t) #Calulate the actual x position\n",
    "        t = t+h #move the step value forward\n",
    "        dfActual2 = pd.DataFrame({\"T\":[t],\"XActual\":[k],\"U\":[U]}) #fill the dataframe \n",
    "        \n",
    "        dfActual = dfActual.append(dfActual2) #append the dataframe\n",
    "            \n",
    "    dfActual.reset_index(inplace=True) #fix the index values of dataframe\n",
    "    dfActual = dfActual.drop(columns=['index'])\n",
    "    return dfActual"
   ]
  },
  {
   "cell_type": "markdown",
   "metadata": {},
   "source": [
    "## Perform Eulers "
   ]
  },
  {
   "cell_type": "markdown",
   "metadata": {},
   "source": [
    "(Returns as Pandas Dataframe)"
   ]
  },
  {
   "cell_type": "code",
   "execution_count": 4,
   "metadata": {},
   "outputs": [
    {
     "name": "stdout",
     "output_type": "stream",
     "text": [
      "Enter xInitial\n",
      "0\n",
      "Enter yInitial\n",
      "0\n",
      "Enter Step Size\n",
      "0.01\n",
      "Enter Time\n",
      "15\n",
      "Enter Sample Integral (To Print all put 0 )\n",
      "0\n"
     ]
    },
    {
     "data": {
      "text/html": [
       "<div>\n",
       "<style scoped>\n",
       "    .dataframe tbody tr th:only-of-type {\n",
       "        vertical-align: middle;\n",
       "    }\n",
       "\n",
       "    .dataframe tbody tr th {\n",
       "        vertical-align: top;\n",
       "    }\n",
       "\n",
       "    .dataframe thead th {\n",
       "        text-align: right;\n",
       "    }\n",
       "</style>\n",
       "<table border=\"1\" class=\"dataframe\">\n",
       "  <thead>\n",
       "    <tr style=\"text-align: right;\">\n",
       "      <th></th>\n",
       "      <th>T</th>\n",
       "      <th>X</th>\n",
       "      <th>U</th>\n",
       "    </tr>\n",
       "  </thead>\n",
       "  <tbody>\n",
       "    <tr>\n",
       "      <th>0</th>\n",
       "      <td>0.01</td>\n",
       "      <td>0.040000</td>\n",
       "      <td>2.0</td>\n",
       "    </tr>\n",
       "    <tr>\n",
       "      <th>1</th>\n",
       "      <td>0.02</td>\n",
       "      <td>0.079200</td>\n",
       "      <td>2.0</td>\n",
       "    </tr>\n",
       "    <tr>\n",
       "      <th>2</th>\n",
       "      <td>0.03</td>\n",
       "      <td>0.117616</td>\n",
       "      <td>2.0</td>\n",
       "    </tr>\n",
       "    <tr>\n",
       "      <th>3</th>\n",
       "      <td>0.04</td>\n",
       "      <td>0.155264</td>\n",
       "      <td>2.0</td>\n",
       "    </tr>\n",
       "    <tr>\n",
       "      <th>4</th>\n",
       "      <td>0.05</td>\n",
       "      <td>0.192158</td>\n",
       "      <td>2.0</td>\n",
       "    </tr>\n",
       "    <tr>\n",
       "      <th>...</th>\n",
       "      <td>...</td>\n",
       "      <td>...</td>\n",
       "      <td>...</td>\n",
       "    </tr>\n",
       "    <tr>\n",
       "      <th>1496</th>\n",
       "      <td>14.97</td>\n",
       "      <td>2.999911</td>\n",
       "      <td>3.0</td>\n",
       "    </tr>\n",
       "    <tr>\n",
       "      <th>1497</th>\n",
       "      <td>14.98</td>\n",
       "      <td>2.999913</td>\n",
       "      <td>3.0</td>\n",
       "    </tr>\n",
       "    <tr>\n",
       "      <th>1498</th>\n",
       "      <td>14.99</td>\n",
       "      <td>2.999915</td>\n",
       "      <td>3.0</td>\n",
       "    </tr>\n",
       "    <tr>\n",
       "      <th>1499</th>\n",
       "      <td>15.00</td>\n",
       "      <td>2.999916</td>\n",
       "      <td>3.0</td>\n",
       "    </tr>\n",
       "    <tr>\n",
       "      <th>1500</th>\n",
       "      <td>15.01</td>\n",
       "      <td>2.999918</td>\n",
       "      <td>3.0</td>\n",
       "    </tr>\n",
       "  </tbody>\n",
       "</table>\n",
       "<p>1501 rows × 3 columns</p>\n",
       "</div>"
      ],
      "text/plain": [
       "          T         X    U\n",
       "0      0.01  0.040000  2.0\n",
       "1      0.02  0.079200  2.0\n",
       "2      0.03  0.117616  2.0\n",
       "3      0.04  0.155264  2.0\n",
       "4      0.05  0.192158  2.0\n",
       "...     ...       ...  ...\n",
       "1496  14.97  2.999911  3.0\n",
       "1497  14.98  2.999913  3.0\n",
       "1498  14.99  2.999915  3.0\n",
       "1499  15.00  2.999916  3.0\n",
       "1500  15.01  2.999918  3.0\n",
       "\n",
       "[1501 rows x 3 columns]"
      ]
     },
     "execution_count": 4,
     "metadata": {},
     "output_type": "execute_result"
    }
   ],
   "source": [
    "print (\"Enter xInitial\") # Ask the user to input Initial X Value\n",
    "xInit = float (input())\n",
    "print (\"Enter yInitial\") # Ask the user to input Initial Y Value\n",
    "yInit = float (input())\n",
    "print (\"Enter Step Size\") # Ask the user to input Step Size\n",
    "Step = float (input())\n",
    "print (\"Enter Time\") # Ask the user to input Time Value\n",
    "Time = float (input()) \n",
    "print (\"Enter Sample Integral (To Print all put 0 )\") # Ask the user to input Sample Value\n",
    "Integration = float (input())\n",
    "\n",
    "df1 = Eulers(xInit,yInit,Step,Time,Integration) # Perform the Eulers method on those parameters and return a pandas dataframe\n",
    "df1"
   ]
  },
  {
   "cell_type": "markdown",
   "metadata": {},
   "source": [
    "## Plot graphs"
   ]
  },
  {
   "cell_type": "code",
   "execution_count": 5,
   "metadata": {},
   "outputs": [
    {
     "data": {
      "image/png": "[encoded data removed]",
      "text/plain": [
       "<Figure size 432x288 with 1 Axes>"
      ]
     },
     "metadata": {
      "needs_background": "light"
     },
     "output_type": "display_data"
    }
   ],
   "source": [
    "plt1 = sns.lineplot(x=\"T\", y=\"X\", data=df1) #Plots graph of the effects of X over time"
   ]
  },
  {
   "cell_type": "code",
   "execution_count": 6,
   "metadata": {},
   "outputs": [
    {
     "data": {
      "image/png": "[encoded data removed]",
      "text/plain": [
       "<Figure size 432x288 with 1 Axes>"
      ]
     },
     "metadata": {
      "needs_background": "light"
     },
     "output_type": "display_data"
    }
   ],
   "source": [
    "plt2 = sns.lineplot(x=\"T\", y=\"U\", data=df1) # Plots graph on the effect of U Over Time"
   ]
  },
  {
   "cell_type": "markdown",
   "metadata": {},
   "source": [
    "## Multiplot for Report "
   ]
  },
  {
   "cell_type": "code",
   "execution_count": 7,
   "metadata": {},
   "outputs": [
    {
     "data": {
      "image/png": "[encoded data removed]",
      "text/plain": [
       "<Figure size 432x288 with 1 Axes>"
      ]
     },
     "metadata": {
      "needs_background": "light"
     },
     "output_type": "display_data"
    }
   ],
   "source": [
    "df2 = Eulers(0,0,1,15,0) # Perform the Eulers method on those parameters and return a pandas dataframe\n",
    "df3 = Eulers(0,0,0.75,15,0) # Perform the Eulers method on those parameters and return a pandas dataframe\n",
    "df4 = Eulers(0,0,0.5,15,0) # Perform the Eulers method on those parameters and return a pandas dataframe\n",
    "df5 = Eulers(0,0,0.25,15,0) # Perform the Eulers method on those parameters and return a pandas dataframe\n",
    "df6 = Eulers(0,0,0.01,15,0) # Perform the Eulers method on those parameters and return a pandas dataframe\n",
    "df7 = Eulers(0,0,0.001,15,0) # Perform the Eulers method on those parameters and return a pandas dataframe\n",
    "plt3 = sns.lineplot(x=\"T\", y=\"U\", data=df2) #blue 1\n",
    "plt4 = sns.lineplot(x=\"T\", y=\"U\", data=df3) #Orange 0.75\n",
    "plt5 = sns.lineplot(x=\"T\", y=\"U\", data=df4) #Green 0.5\n",
    "plt6 = sns.lineplot(x=\"T\", y=\"U\", data=df5) #Red 0.25\n",
    "plt7 = sns.lineplot(x=\"T\", y=\"U\", data=df6) #Purple 0.01\n",
    "plt8 = sns.lineplot(x=\"T\", y=\"U\", data=df7) #Brown 0.001"
   ]
  },
  {
   "cell_type": "code",
   "execution_count": 8,
   "metadata": {},
   "outputs": [
    {
     "data": {
      "image/png": "[encoded data removed]",
      "text/plain": [
       "<Figure size 432x288 with 1 Axes>"
      ]
     },
     "metadata": {
      "needs_background": "light"
     },
     "output_type": "display_data"
    }
   ],
   "source": [
    "plt9 = sns.lineplot(x=\"T\", y=\"X\", data=df2) #Blue 1\n",
    "plt10 = sns.lineplot(x=\"T\", y=\"X\", data=df3) #Orange 0.75\n",
    "plt11 = sns.lineplot(x=\"T\", y=\"X\", data=df4) #Green 0.5\n",
    "plt12 = sns.lineplot(x=\"T\", y=\"X\", data=df5) #Red 0.25\n",
    "plt13 = sns.lineplot(x=\"T\", y=\"X\", data=df6) #Purple 0.01\n",
    "plt14 = sns.lineplot(x=\"T\", y=\"X\", data=df7) #Brown 0.001"
   ]
  },
  {
   "cell_type": "markdown",
   "metadata": {},
   "source": [
    "## Actual Plot"
   ]
  },
  {
   "cell_type": "code",
   "execution_count": 9,
   "metadata": {},
   "outputs": [
    {
     "data": {
      "image/png": "[encoded data removed]",
      "text/plain": [
       "<Figure size 432x288 with 1 Axes>"
      ]
     },
     "metadata": {
      "needs_background": "light"
     },
     "output_type": "display_data"
    }
   ],
   "source": [
    "dfactual2 = Actualplot (0,0,0.1,15) #plot the actual value of Initialx: 0, InitialY:0, Step: 0.1, time:15\n",
    "Actualplt = sns.lineplot(x=\"T\", y=\"XActual\", data=dfactual2)  #plot actual results"
   ]
  },
  {
   "cell_type": "code",
   "execution_count": 10,
   "metadata": {},
   "outputs": [
    {
     "data": {
      "image/png": "[encoded data removed]",
      "text/plain": [
       "<Figure size 432x288 with 1 Axes>"
      ]
     },
     "metadata": {
      "needs_background": "light"
     },
     "output_type": "display_data"
    }
   ],
   "source": [
    "Actualplt = sns.lineplot(x=\"T\", y=\"U\", data=dfactual2)  #plot actual results"
   ]
  },
  {
   "cell_type": "markdown",
   "metadata": {},
   "source": [
    "# Part 2: Adding Noise to Simulation"
   ]
  },
  {
   "cell_type": "markdown",
   "metadata": {},
   "source": [
    "## Box Muller Algorithm"
   ]
  },
  {
   "cell_type": "code",
   "execution_count": 112,
   "metadata": {
    "scrolled": false
   },
   "outputs": [],
   "source": [
    "standarddev = 0.01 #Target Standard Deviation\n",
    "meanx = 0 # Target Mean\n",
    "noise = [] #Noise array\n",
    "distz1 = [] # Array of distribution of random numbers without modification\n",
    "distb = [] #Slight modification of random numbers\n",
    "distz2 = [] #First Set of Random Numbers\n",
    "distz3 = [] #Second Set of Random Numbers\n",
    "\n",
    "for ind in df1.index: # For each record in the dataframe\n",
    "        z1 = random.uniform(0,2*np.pi) # generate a random number between 0 and 2*pi\n",
    "        distz1.append(z1) # append random numbers to z1 array\n",
    "        \n",
    "        #generate a random number between 0 and 1 uniformally generated\n",
    "        b = standarddev*math.sqrt(-2*math.log(random.uniform(0,1))) \n",
    "        distb.append(b) # append unformly generated numbers to array\n",
    "        \n",
    "        # calulate the sin of the first random number using the uniform number\n",
    "        z2 = b*math.sin(z1)+meanx \n",
    "        distz2 = [z2] #add random number 1 to array\n",
    "        \n",
    "        # calulate the cos of the Second random number using the uniform number\n",
    "        z3 = b*math.cos(z1)+meanx\n",
    "        distz3 = [z3] #add random number 2 to array\n",
    "        \n",
    "        Xnoise = z2 \n",
    "        Xnoise2 = z3 \n",
    "\n",
    "        noise.append(Xnoise)# Add random number 1 to Xnoise\n",
    "        noise.append(Xnoise2)# Add random number 2 to Xnoise"
   ]
  },
  {
   "cell_type": "code",
   "execution_count": 113,
   "metadata": {},
   "outputs": [],
   "source": [
    "def BoxMuller (dataframe):\n",
    "    standarddev = 0.1 #Target Standard Deviation\n",
    "    meanx = 0 # Target Mean\n",
    "    noise = [] #Noise array\n",
    "    distz1 = [] # Array of distribution of random numbers without modification\n",
    "    distb = [] #Slight modification of random numbers\n",
    "    distz2 = [] #First Set of Random Numbers\n",
    "    distz3 = [] #Second Set of Random Numbers\n",
    "\n",
    "    for ind in dataframe.index: # For each record in the dataframe\n",
    "            z1 = random.uniform(0,2*np.pi) # generate a random number between 0 and 2*pi\n",
    "            distz1.append(z1) # append random numbers to z1 array\n",
    "        \n",
    "            #generate a random number between 0 and 1 uniformally generated\n",
    "            b = standarddev*math.sqrt(-2*math.log(random.uniform(0,1))) \n",
    "            distb.append(b) # append unformly generated numbers to array\n",
    "        \n",
    "            # calulate the sin of the first random number using the uniform number\n",
    "            z2 = b*math.sin(z1)+meanx \n",
    "            distz2 = [z2] #add random number 1 to array\n",
    "        \n",
    "            # calulate the cos of the Second random number using the uniform number\n",
    "            z3 = b*math.cos(z1)+meanx\n",
    "            distz3 = [z3] #add random number 2 to array\n",
    "        \n",
    "            Xnoise = z2 \n",
    "            Xnoise2 = z3 \n",
    "\n",
    "            noise.append(Xnoise)# Add random number 1 to Xnoise\n",
    "            noise.append(Xnoise2)# Add random number 2 to Xnoise\n",
    "    return noise"
   ]
  },
  {
   "cell_type": "markdown",
   "metadata": {},
   "source": [
    "## Distribution Plots of Random Numbers "
   ]
  },
  {
   "cell_type": "code",
   "execution_count": 114,
   "metadata": {},
   "outputs": [
    {
     "data": {
      "text/plain": [
       "<matplotlib.axes._subplots.AxesSubplot at 0x27f330f0>"
      ]
     },
     "execution_count": 114,
     "metadata": {},
     "output_type": "execute_result"
    },
    {
     "data": {
      "image/png": "[encoded data removed]",
      "text/plain": [
       "<Figure size 432x288 with 1 Axes>"
      ]
     },
     "metadata": {
      "needs_background": "light"
     },
     "output_type": "display_data"
    }
   ],
   "source": [
    "sns.distplot(distz1) #Distribution of random numbers before box muller"
   ]
  },
  {
   "cell_type": "code",
   "execution_count": 115,
   "metadata": {},
   "outputs": [
    {
     "data": {
      "text/plain": [
       "<matplotlib.axes._subplots.AxesSubplot at 0x2845e0b0>"
      ]
     },
     "execution_count": 115,
     "metadata": {},
     "output_type": "execute_result"
    },
    {
     "data": {
      "image/png": "[encoded data removed]",
      "text/plain": [
       "<Figure size 432x288 with 1 Axes>"
      ]
     },
     "metadata": {
      "needs_background": "light"
     },
     "output_type": "display_data"
    }
   ],
   "source": [
    "sns.distplot(distb) #Distribution of Random Uniform Numbers between 0 and 1"
   ]
  },
  {
   "cell_type": "code",
   "execution_count": 116,
   "metadata": {},
   "outputs": [
    {
     "data": {
      "text/plain": [
       "<matplotlib.axes._subplots.AxesSubplot at 0x27ff2850>"
      ]
     },
     "execution_count": 116,
     "metadata": {},
     "output_type": "execute_result"
    },
    {
     "data": {
      "image/png": "[encoded data removed]",
      "text/plain": [
       "<Figure size 432x288 with 1 Axes>"
      ]
     },
     "metadata": {
      "needs_background": "light"
     },
     "output_type": "display_data"
    }
   ],
   "source": [
    "sns.distplot(noise) #Distribution of Standardised Numbers"
   ]
  },
  {
   "cell_type": "markdown",
   "metadata": {},
   "source": [
    "## Add Noise to Dataframe"
   ]
  },
  {
   "cell_type": "code",
   "execution_count": 117,
   "metadata": {
    "scrolled": false
   },
   "outputs": [
    {
     "data": {
      "text/html": [
       "<div>\n",
       "<style scoped>\n",
       "    .dataframe tbody tr th:only-of-type {\n",
       "        vertical-align: middle;\n",
       "    }\n",
       "\n",
       "    .dataframe tbody tr th {\n",
       "        vertical-align: top;\n",
       "    }\n",
       "\n",
       "    .dataframe thead th {\n",
       "        text-align: right;\n",
       "    }\n",
       "</style>\n",
       "<table border=\"1\" class=\"dataframe\">\n",
       "  <thead>\n",
       "    <tr style=\"text-align: right;\">\n",
       "      <th></th>\n",
       "      <th>T</th>\n",
       "      <th>X</th>\n",
       "      <th>U</th>\n",
       "      <th>xNoise</th>\n",
       "      <th>StepFunction</th>\n",
       "      <th>Sigmoidfunction12</th>\n",
       "      <th>SigmoidPerceptronLR001</th>\n",
       "      <th>SigmoidPerceptronLR01</th>\n",
       "      <th>SigmoidPerceptronLR0001</th>\n",
       "      <th>Noise</th>\n",
       "    </tr>\n",
       "  </thead>\n",
       "  <tbody>\n",
       "    <tr>\n",
       "      <th>0</th>\n",
       "      <td>0.01</td>\n",
       "      <td>0.040000</td>\n",
       "      <td>2.0</td>\n",
       "      <td>-0.057331</td>\n",
       "      <td>1</td>\n",
       "      <td>2.105171</td>\n",
       "      <td>2.105171</td>\n",
       "      <td>2.105171</td>\n",
       "      <td>2.105171</td>\n",
       "      <td>-0.019641</td>\n",
       "    </tr>\n",
       "    <tr>\n",
       "      <th>1</th>\n",
       "      <td>0.02</td>\n",
       "      <td>0.079200</td>\n",
       "      <td>2.0</td>\n",
       "      <td>-0.074351</td>\n",
       "      <td>1</td>\n",
       "      <td>2.184786</td>\n",
       "      <td>2.067526</td>\n",
       "      <td>2.015946</td>\n",
       "      <td>2.042255</td>\n",
       "      <td>-0.012278</td>\n",
       "    </tr>\n",
       "    <tr>\n",
       "      <th>2</th>\n",
       "      <td>0.03</td>\n",
       "      <td>0.117616</td>\n",
       "      <td>2.0</td>\n",
       "      <td>0.135743</td>\n",
       "      <td>0</td>\n",
       "      <td>2.183401</td>\n",
       "      <td>1.977256</td>\n",
       "      <td>1.968288</td>\n",
       "      <td>2.035510</td>\n",
       "      <td>0.001193</td>\n",
       "    </tr>\n",
       "    <tr>\n",
       "      <th>3</th>\n",
       "      <td>0.04</td>\n",
       "      <td>0.155264</td>\n",
       "      <td>2.0</td>\n",
       "      <td>0.245537</td>\n",
       "      <td>0</td>\n",
       "      <td>1.967210</td>\n",
       "      <td>1.920420</td>\n",
       "      <td>1.907419</td>\n",
       "      <td>2.012684</td>\n",
       "      <td>-0.007126</td>\n",
       "    </tr>\n",
       "    <tr>\n",
       "      <th>4</th>\n",
       "      <td>0.05</td>\n",
       "      <td>0.192158</td>\n",
       "      <td>2.0</td>\n",
       "      <td>0.225388</td>\n",
       "      <td>0</td>\n",
       "      <td>1.866753</td>\n",
       "      <td>1.874646</td>\n",
       "      <td>1.821034</td>\n",
       "      <td>1.969356</td>\n",
       "      <td>0.011760</td>\n",
       "    </tr>\n",
       "    <tr>\n",
       "      <th>...</th>\n",
       "      <td>...</td>\n",
       "      <td>...</td>\n",
       "      <td>...</td>\n",
       "      <td>...</td>\n",
       "      <td>...</td>\n",
       "      <td>...</td>\n",
       "      <td>...</td>\n",
       "      <td>...</td>\n",
       "      <td>...</td>\n",
       "      <td>...</td>\n",
       "    </tr>\n",
       "    <tr>\n",
       "      <th>1496</th>\n",
       "      <td>14.97</td>\n",
       "      <td>2.999911</td>\n",
       "      <td>3.0</td>\n",
       "      <td>3.048966</td>\n",
       "      <td>1</td>\n",
       "      <td>3.013852</td>\n",
       "      <td>3.017237</td>\n",
       "      <td>1.160663</td>\n",
       "      <td>2.984410</td>\n",
       "      <td>-0.001766</td>\n",
       "    </tr>\n",
       "    <tr>\n",
       "      <th>1497</th>\n",
       "      <td>14.98</td>\n",
       "      <td>2.999913</td>\n",
       "      <td>3.0</td>\n",
       "      <td>2.870501</td>\n",
       "      <td>1</td>\n",
       "      <td>2.845958</td>\n",
       "      <td>2.990228</td>\n",
       "      <td>8.298054</td>\n",
       "      <td>3.006539</td>\n",
       "      <td>0.006370</td>\n",
       "    </tr>\n",
       "    <tr>\n",
       "      <th>1498</th>\n",
       "      <td>14.99</td>\n",
       "      <td>2.999915</td>\n",
       "      <td>3.0</td>\n",
       "      <td>3.116205</td>\n",
       "      <td>1</td>\n",
       "      <td>3.261912</td>\n",
       "      <td>2.990448</td>\n",
       "      <td>1.000109</td>\n",
       "      <td>3.008396</td>\n",
       "      <td>0.007460</td>\n",
       "    </tr>\n",
       "    <tr>\n",
       "      <th>1499</th>\n",
       "      <td>15.00</td>\n",
       "      <td>2.999916</td>\n",
       "      <td>3.0</td>\n",
       "      <td>3.068976</td>\n",
       "      <td>1</td>\n",
       "      <td>2.912197</td>\n",
       "      <td>3.003163</td>\n",
       "      <td>1.007327</td>\n",
       "      <td>2.996621</td>\n",
       "      <td>0.000908</td>\n",
       "    </tr>\n",
       "    <tr>\n",
       "      <th>1500</th>\n",
       "      <td>15.01</td>\n",
       "      <td>2.999918</td>\n",
       "      <td>3.0</td>\n",
       "      <td>3.072107</td>\n",
       "      <td>1</td>\n",
       "      <td>3.031526</td>\n",
       "      <td>2.993966</td>\n",
       "      <td>1.480576</td>\n",
       "      <td>3.008591</td>\n",
       "      <td>0.013704</td>\n",
       "    </tr>\n",
       "  </tbody>\n",
       "</table>\n",
       "<p>1501 rows × 10 columns</p>\n",
       "</div>"
      ],
      "text/plain": [
       "          T         X    U    xNoise  StepFunction  Sigmoidfunction12  \\\n",
       "0      0.01  0.040000  2.0 -0.057331             1           2.105171   \n",
       "1      0.02  0.079200  2.0 -0.074351             1           2.184786   \n",
       "2      0.03  0.117616  2.0  0.135743             0           2.183401   \n",
       "3      0.04  0.155264  2.0  0.245537             0           1.967210   \n",
       "4      0.05  0.192158  2.0  0.225388             0           1.866753   \n",
       "...     ...       ...  ...       ...           ...                ...   \n",
       "1496  14.97  2.999911  3.0  3.048966             1           3.013852   \n",
       "1497  14.98  2.999913  3.0  2.870501             1           2.845958   \n",
       "1498  14.99  2.999915  3.0  3.116205             1           3.261912   \n",
       "1499  15.00  2.999916  3.0  3.068976             1           2.912197   \n",
       "1500  15.01  2.999918  3.0  3.072107             1           3.031526   \n",
       "\n",
       "      SigmoidPerceptronLR001  SigmoidPerceptronLR01  SigmoidPerceptronLR0001  \\\n",
       "0                   2.105171               2.105171                 2.105171   \n",
       "1                   2.067526               2.015946                 2.042255   \n",
       "2                   1.977256               1.968288                 2.035510   \n",
       "3                   1.920420               1.907419                 2.012684   \n",
       "4                   1.874646               1.821034                 1.969356   \n",
       "...                      ...                    ...                      ...   \n",
       "1496                3.017237               1.160663                 2.984410   \n",
       "1497                2.990228               8.298054                 3.006539   \n",
       "1498                2.990448               1.000109                 3.008396   \n",
       "1499                3.003163               1.007327                 2.996621   \n",
       "1500                2.993966               1.480576                 3.008591   \n",
       "\n",
       "         Noise  \n",
       "0    -0.019641  \n",
       "1    -0.012278  \n",
       "2     0.001193  \n",
       "3    -0.007126  \n",
       "4     0.011760  \n",
       "...        ...  \n",
       "1496 -0.001766  \n",
       "1497  0.006370  \n",
       "1498  0.007460  \n",
       "1499  0.000908  \n",
       "1500  0.013704  \n",
       "\n",
       "[1501 rows x 10 columns]"
      ]
     },
     "execution_count": 117,
     "metadata": {},
     "output_type": "execute_result"
    }
   ],
   "source": [
    "dfnoise = pd.DataFrame(noise) #Add noise to dataframe\n",
    "dfnoise.columns =['Noise'] #Rename Col to Noise\n",
    "dfcount = df1['X'].count() # Find count of x (how many in dataframe)\n",
    "# add to dataframe the number of records in dataframe\n",
    "dfnoiseshortened = dfnoise[dfnoise[\"Noise\"].index < dfcount] \n",
    "df1['Noise'] = dfnoiseshortened # append noise to original dataframe\n",
    "df1 #show dataframe"
   ]
  },
  {
   "cell_type": "code",
   "execution_count": 118,
   "metadata": {},
   "outputs": [
    {
     "data": {
      "text/html": [
       "<div>\n",
       "<style scoped>\n",
       "    .dataframe tbody tr th:only-of-type {\n",
       "        vertical-align: middle;\n",
       "    }\n",
       "\n",
       "    .dataframe tbody tr th {\n",
       "        vertical-align: top;\n",
       "    }\n",
       "\n",
       "    .dataframe thead th {\n",
       "        text-align: right;\n",
       "    }\n",
       "</style>\n",
       "<table border=\"1\" class=\"dataframe\">\n",
       "  <thead>\n",
       "    <tr style=\"text-align: right;\">\n",
       "      <th></th>\n",
       "      <th>T</th>\n",
       "      <th>X</th>\n",
       "      <th>U</th>\n",
       "      <th>xNoise</th>\n",
       "      <th>StepFunction</th>\n",
       "      <th>Sigmoidfunction12</th>\n",
       "      <th>SigmoidPerceptronLR001</th>\n",
       "      <th>SigmoidPerceptronLR01</th>\n",
       "      <th>SigmoidPerceptronLR0001</th>\n",
       "      <th>Noise</th>\n",
       "    </tr>\n",
       "  </thead>\n",
       "  <tbody>\n",
       "    <tr>\n",
       "      <th>0</th>\n",
       "      <td>0.01</td>\n",
       "      <td>0.040000</td>\n",
       "      <td>2.0</td>\n",
       "      <td>0.020359</td>\n",
       "      <td>1</td>\n",
       "      <td>2.105171</td>\n",
       "      <td>2.105171</td>\n",
       "      <td>2.105171</td>\n",
       "      <td>2.105171</td>\n",
       "      <td>-0.019641</td>\n",
       "    </tr>\n",
       "    <tr>\n",
       "      <th>1</th>\n",
       "      <td>0.02</td>\n",
       "      <td>0.079200</td>\n",
       "      <td>2.0</td>\n",
       "      <td>0.066922</td>\n",
       "      <td>1</td>\n",
       "      <td>2.184786</td>\n",
       "      <td>2.067526</td>\n",
       "      <td>2.015946</td>\n",
       "      <td>2.042255</td>\n",
       "      <td>-0.012278</td>\n",
       "    </tr>\n",
       "    <tr>\n",
       "      <th>2</th>\n",
       "      <td>0.03</td>\n",
       "      <td>0.117616</td>\n",
       "      <td>2.0</td>\n",
       "      <td>0.118809</td>\n",
       "      <td>0</td>\n",
       "      <td>2.183401</td>\n",
       "      <td>1.977256</td>\n",
       "      <td>1.968288</td>\n",
       "      <td>2.035510</td>\n",
       "      <td>0.001193</td>\n",
       "    </tr>\n",
       "    <tr>\n",
       "      <th>3</th>\n",
       "      <td>0.04</td>\n",
       "      <td>0.155264</td>\n",
       "      <td>2.0</td>\n",
       "      <td>0.148137</td>\n",
       "      <td>0</td>\n",
       "      <td>1.967210</td>\n",
       "      <td>1.920420</td>\n",
       "      <td>1.907419</td>\n",
       "      <td>2.012684</td>\n",
       "      <td>-0.007126</td>\n",
       "    </tr>\n",
       "    <tr>\n",
       "      <th>4</th>\n",
       "      <td>0.05</td>\n",
       "      <td>0.192158</td>\n",
       "      <td>2.0</td>\n",
       "      <td>0.203919</td>\n",
       "      <td>0</td>\n",
       "      <td>1.866753</td>\n",
       "      <td>1.874646</td>\n",
       "      <td>1.821034</td>\n",
       "      <td>1.969356</td>\n",
       "      <td>0.011760</td>\n",
       "    </tr>\n",
       "    <tr>\n",
       "      <th>...</th>\n",
       "      <td>...</td>\n",
       "      <td>...</td>\n",
       "      <td>...</td>\n",
       "      <td>...</td>\n",
       "      <td>...</td>\n",
       "      <td>...</td>\n",
       "      <td>...</td>\n",
       "      <td>...</td>\n",
       "      <td>...</td>\n",
       "      <td>...</td>\n",
       "    </tr>\n",
       "    <tr>\n",
       "      <th>1496</th>\n",
       "      <td>14.97</td>\n",
       "      <td>2.999911</td>\n",
       "      <td>3.0</td>\n",
       "      <td>2.998146</td>\n",
       "      <td>1</td>\n",
       "      <td>3.013852</td>\n",
       "      <td>3.017237</td>\n",
       "      <td>1.160663</td>\n",
       "      <td>2.984410</td>\n",
       "      <td>-0.001766</td>\n",
       "    </tr>\n",
       "    <tr>\n",
       "      <th>1497</th>\n",
       "      <td>14.98</td>\n",
       "      <td>2.999913</td>\n",
       "      <td>3.0</td>\n",
       "      <td>3.006282</td>\n",
       "      <td>1</td>\n",
       "      <td>2.845958</td>\n",
       "      <td>2.990228</td>\n",
       "      <td>8.298054</td>\n",
       "      <td>3.006539</td>\n",
       "      <td>0.006370</td>\n",
       "    </tr>\n",
       "    <tr>\n",
       "      <th>1498</th>\n",
       "      <td>14.99</td>\n",
       "      <td>2.999915</td>\n",
       "      <td>3.0</td>\n",
       "      <td>3.007374</td>\n",
       "      <td>1</td>\n",
       "      <td>3.261912</td>\n",
       "      <td>2.990448</td>\n",
       "      <td>1.000109</td>\n",
       "      <td>3.008396</td>\n",
       "      <td>0.007460</td>\n",
       "    </tr>\n",
       "    <tr>\n",
       "      <th>1499</th>\n",
       "      <td>15.00</td>\n",
       "      <td>2.999916</td>\n",
       "      <td>3.0</td>\n",
       "      <td>3.000824</td>\n",
       "      <td>1</td>\n",
       "      <td>2.912197</td>\n",
       "      <td>3.003163</td>\n",
       "      <td>1.007327</td>\n",
       "      <td>2.996621</td>\n",
       "      <td>0.000908</td>\n",
       "    </tr>\n",
       "    <tr>\n",
       "      <th>1500</th>\n",
       "      <td>15.01</td>\n",
       "      <td>2.999918</td>\n",
       "      <td>3.0</td>\n",
       "      <td>3.013622</td>\n",
       "      <td>1</td>\n",
       "      <td>3.031526</td>\n",
       "      <td>2.993966</td>\n",
       "      <td>1.480576</td>\n",
       "      <td>3.008591</td>\n",
       "      <td>0.013704</td>\n",
       "    </tr>\n",
       "  </tbody>\n",
       "</table>\n",
       "<p>1501 rows × 10 columns</p>\n",
       "</div>"
      ],
      "text/plain": [
       "          T         X    U    xNoise  StepFunction  Sigmoidfunction12  \\\n",
       "0      0.01  0.040000  2.0  0.020359             1           2.105171   \n",
       "1      0.02  0.079200  2.0  0.066922             1           2.184786   \n",
       "2      0.03  0.117616  2.0  0.118809             0           2.183401   \n",
       "3      0.04  0.155264  2.0  0.148137             0           1.967210   \n",
       "4      0.05  0.192158  2.0  0.203919             0           1.866753   \n",
       "...     ...       ...  ...       ...           ...                ...   \n",
       "1496  14.97  2.999911  3.0  2.998146             1           3.013852   \n",
       "1497  14.98  2.999913  3.0  3.006282             1           2.845958   \n",
       "1498  14.99  2.999915  3.0  3.007374             1           3.261912   \n",
       "1499  15.00  2.999916  3.0  3.000824             1           2.912197   \n",
       "1500  15.01  2.999918  3.0  3.013622             1           3.031526   \n",
       "\n",
       "      SigmoidPerceptronLR001  SigmoidPerceptronLR01  SigmoidPerceptronLR0001  \\\n",
       "0                   2.105171               2.105171                 2.105171   \n",
       "1                   2.067526               2.015946                 2.042255   \n",
       "2                   1.977256               1.968288                 2.035510   \n",
       "3                   1.920420               1.907419                 2.012684   \n",
       "4                   1.874646               1.821034                 1.969356   \n",
       "...                      ...                    ...                      ...   \n",
       "1496                3.017237               1.160663                 2.984410   \n",
       "1497                2.990228               8.298054                 3.006539   \n",
       "1498                2.990448               1.000109                 3.008396   \n",
       "1499                3.003163               1.007327                 2.996621   \n",
       "1500                2.993966               1.480576                 3.008591   \n",
       "\n",
       "         Noise  \n",
       "0    -0.019641  \n",
       "1    -0.012278  \n",
       "2     0.001193  \n",
       "3    -0.007126  \n",
       "4     0.011760  \n",
       "...        ...  \n",
       "1496 -0.001766  \n",
       "1497  0.006370  \n",
       "1498  0.007460  \n",
       "1499  0.000908  \n",
       "1500  0.013704  \n",
       "\n",
       "[1501 rows x 10 columns]"
      ]
     },
     "execution_count": 118,
     "metadata": {},
     "output_type": "execute_result"
    }
   ],
   "source": [
    "XcombinedNoise =  df1['Noise'] + df1['X'] # Add Noise to the X value\n",
    "df1['xNoise'] = XcombinedNoise # Add XNoise to dataframe\n",
    "df1 #Display Dataframe"
   ]
  },
  {
   "cell_type": "markdown",
   "metadata": {},
   "source": [
    "## Calculate Average Percentage of Noise Generated "
   ]
  },
  {
   "cell_type": "code",
   "execution_count": 119,
   "metadata": {},
   "outputs": [
    {
     "data": {
      "image/png": "[encoded data removed]",
      "text/plain": [
       "<Figure size 432x288 with 1 Axes>"
      ]
     },
     "metadata": {},
     "output_type": "display_data"
    }
   ],
   "source": [
    "Noise = df1['Noise'] #fetch noise values\n",
    "X = df1['X'] #Fetch x values \n",
    "perc =abs( (Noise/X *100)) # Calculate percentage x \n",
    "df1['PercentageNoise'] = perc #add percentage to dataframe\n",
    "Noise2 = BoxMuller(df1)\n",
    "Noise3 = BoxMuller(df1)\n",
    "Noise4 = BoxMuller(df1)\n",
    "Noise5 = BoxMuller(df1)\n",
    "dfnoise2 = pd.DataFrame(Noise2)\n",
    "dfnoise3 = pd.DataFrame(Noise3)\n",
    "dfnoise4 = pd.DataFrame(Noise4)\n",
    "dfnoise5 = pd.DataFrame(Noise5)\n",
    "dfnoise2.columns =['Noise2']\n",
    "dfnoise3.columns =['Noise3']\n",
    "dfnoise4.columns =['Noise4']\n",
    "dfnoise5.columns =['Noise5']\n",
    "countave = df1['X'].count()\n",
    "Shortened2 = dfnoise2[dfnoise2[\"Noise2\"].index < countave]\n",
    "Shortened3 = dfnoise3[dfnoise3[\"Noise3\"].index < countave]\n",
    "Shortened4 = dfnoise4[dfnoise4[\"Noise4\"].index < countave]\n",
    "Shortened5 = dfnoise5[dfnoise5[\"Noise5\"].index < countave]\n",
    "df1['Noise2'] = Shortened2\n",
    "df1['Noise3'] = Shortened3\n",
    "df1['Noise4'] = Shortened4\n",
    "df1['Noise5'] = Shortened5\n",
    "Xcomb2 =  df1['Noise2'] + df1['X']\n",
    "Xcomb3 =  df1['Noise3'] + df1['X']\n",
    "Xcomb4 =  df1['Noise4'] + df1['X']\n",
    "Xcomb5 =  df1['Noise5'] + df1['X']\n",
    "df1['xNoise2'] = Xcomb2 \n",
    "df1['xNoise3'] = Xcomb3 \n",
    "df1['xNoise4'] = Xcomb4 \n",
    "df1['xNoise5'] = Xcomb5 \n",
    "Noise2 = df1['Noise2'] #fetch noise values\n",
    "Noise3 = df1['Noise3'] #fetch noise values\n",
    "Noise4 = df1['Noise4'] #fetch noise values\n",
    "Noise5 = df1['Noise5'] #fetch noise values\n",
    "X = df1['X'] #Fetch x values \n",
    "X2 = df1['X'] #Fetch x values \n",
    "X3 = df1['X'] #Fetch x values \n",
    "X4 = df1['X'] #Fetch x values \n",
    "\n",
    "perc2 =abs( (Noise2/X *100)) # Calculate percentage x \n",
    "perc3 =abs( (Noise3/X2 *100)) # Calculate percentage x \n",
    "perc4 =abs( (Noise4/X3 *100)) # Calculate percentage x \n",
    "perc5 =abs( (Noise5/X4 *100)) # Calculate percentage x \n",
    "df1['PercentageNoise2'] = perc2 #add percentage to dataframe\n",
    "df1['PercentageNoise3'] = perc3 #add percentage to dataframe\n",
    "df1['PercentageNoise4'] = perc4 #add percentage to dataframe\n",
    "df1['PercentageNoise5'] = perc5 #add percentage to dataframe\n",
    "\n",
    "data1 = df1['PercentageNoise'].mean()\n",
    "data2 = df1['PercentageNoise2'].mean()\n",
    "data3 = df1['PercentageNoise3'].mean()\n",
    "data4 = df1['PercentageNoise4'].mean()\n",
    "data5 = df1['PercentageNoise5'].mean()\n",
    "\n",
    "percentageave = data1 + data2 + data3 + data4 + data5\n",
    "percentageave = percentageave /5\n",
    "whole = 100 - percentageave\n",
    "\n",
    "labels = 'Data', 'Noise' # set the titles for each section\n",
    "sizes = [whole, percentageave]\n",
    "colors = ['lightskyblue', 'lightcoral'] #set the colours \n",
    "explode = (0.1, 0)  # explode 1st slice\n",
    "\n",
    "plt.pie(sizes, explode=explode, labels=labels, colors=colors, #plot the pie chart\n",
    "autopct='%1.1f%%', shadow=True, startangle=140) #set the angles\n",
    "\n",
    "plt.axis('equal')\n",
    "plt.show() #show the pie chart\n",
    "\n",
    "df1 = df1.drop(['Noise','Noise2', 'Noise3','Noise4','Noise5','xNoise2', 'xNoise3','xNoise4', 'xNoise5','PercentageNoise2', 'PercentageNoise3','PercentageNoise4', 'PercentageNoise5', 'PercentageNoise'], axis=1)\n"
   ]
  },
  {
   "cell_type": "markdown",
   "metadata": {},
   "source": [
    "## Display affects on noise to X"
   ]
  },
  {
   "cell_type": "code",
   "execution_count": 120,
   "metadata": {},
   "outputs": [
    {
     "data": {
      "image/png": "[encoded data removed]",
      "text/plain": [
       "<Figure size 432x288 with 1 Axes>"
      ]
     },
     "metadata": {
      "needs_background": "light"
     },
     "output_type": "display_data"
    }
   ],
   "source": [
    "#Plot Effect Noise had on X (Increasing std to 0.1 makes the effect more evident)\n",
    "Noiseplt = sns.lineplot(x=\"T\", y=\"X\", data=df1)\n",
    "Noiseplt = sns.lineplot(x=\"T\", y=\"xNoise\", data=df1) "
   ]
  },
  {
   "cell_type": "markdown",
   "metadata": {},
   "source": [
    "### Add Noisex to all step size dataframes"
   ]
  },
  {
   "cell_type": "code",
   "execution_count": 121,
   "metadata": {},
   "outputs": [],
   "source": [
    "noise2 = BoxMuller(df2) # Make Noise for Df2 (Step Size:1) \n",
    "dfnoise2 = pd.DataFrame(noise2) #Append Noise to dataframe\n",
    "dfnoise2.columns =['Noise'] # Rename col to Noise\n",
    "dfcount2 = df2['X'].count() #Get the count of X (number of entries)\n",
    "dfnoiseshortened2 = dfnoise2[dfnoise2[\"Noise\"].index < dfcount2] #Half the data to fit the full dataframe\n",
    "df2['Noise'] = dfnoiseshortened2 # add noise to full dataframe\n",
    "XcombinedNoise2 =  df2['Noise'] + df2['X'] # add noise to x\n",
    "df2['xNoise'] = XcombinedNoise2  #add Xnoise to dataframe\n",
    "\n",
    "noise3 = BoxMuller(df3) # Make Noise for Df3 (Step Size:0.75) \n",
    "dfnoise3 = pd.DataFrame(noise3) #Append Noise to dataframe\n",
    "dfnoise3.columns =['Noise'] # Rename col to Noise\n",
    "dfcount3 = df3['X'].count() #Get the count of X (number of entries)\n",
    "dfnoiseshortened3 = dfnoise3[dfnoise3[\"Noise\"].index < dfcount3]  #Half the data to fit the full dataframe\n",
    "df3['Noise'] = dfnoiseshortened3 # add noise to full dataframe\n",
    "XcombinedNoise3 =  df3['Noise'] + df3['X'] # add noise to x\n",
    "df3['xNoise'] = XcombinedNoise3 #add Xnoise to dataframe\n",
    "\n",
    "noise4 = BoxMuller(df4) # Make Noise for Df4 (Step Size:0.5) \n",
    "dfnoise4 = pd.DataFrame(noise4) #Append Noise to dataframe\n",
    "dfnoise4.columns =['Noise'] # Rename col to Noise\n",
    "dfcount4 = df4['X'].count() #Get the count of X (number of entries)\n",
    "dfnoiseshortened4 = dfnoise4[dfnoise4[\"Noise\"].index < dfcount4]  #Half the data to fit the full dataframe\n",
    "df4['Noise'] = dfnoiseshortened4 # add noise to full dataframe\n",
    "XcombinedNoise4 =  df4['Noise'] + df4['X'] # add noise to x\n",
    "df4['xNoise'] = XcombinedNoise4 #add Xnoise to dataframe\n",
    "\n",
    "noise5 = BoxMuller(df5) # Make Noise for Df5 (Step Size: 0.25) \n",
    "dfnoise5 = pd.DataFrame(noise5) #Append Noise to dataframe\n",
    "dfnoise5.columns =['Noise'] # Rename col to Noise\n",
    "dfcount5 = df5['X'].count() #Get the count of X (number of entries)\n",
    "dfnoiseshortened5 = dfnoise5[dfnoise5[\"Noise\"].index < dfcount5]  #Half the data to fit the full dataframe\n",
    "df5['Noise'] = dfnoiseshortened5 # add noise to full dataframe\n",
    "XcombinedNoise5 =  df5['Noise'] + df5['X'] # add noise to x\n",
    "df5['xNoise'] = XcombinedNoise5 #add Xnoise to dataframe\n",
    "\n",
    "noise6 = BoxMuller(df6) # Make Noise for Df6 (Step Size:0.01) \n",
    "dfnoise6 = pd.DataFrame(noise6) #Append Noise to dataframe\n",
    "dfnoise6.columns =['Noise'] # Rename col to Noise\n",
    "dfcount6 = df6['X'].count() #Get the count of X (number of entries)\n",
    "dfnoiseshortened6 = dfnoise6[dfnoise6[\"Noise\"].index < dfcount6] #Half the data to fit the full dataframe\n",
    "df6['Noise'] = dfnoiseshortened6 # add noise to full dataframe\n",
    "XcombinedNoise6 =  df6['Noise'] + df6['X'] # add noise to x\n",
    "df6['xNoise'] = XcombinedNoise6 #add Xnoise to dataframe\n",
    "\n",
    "noise7 = BoxMuller(df7) # Make Noise for Df7 (Step Size:0.001) \n",
    "dfnoise7 = pd.DataFrame(noise7) #Append Noise to dataframe\n",
    "dfnoise7.columns =['Noise'] # Rename col to Noise\n",
    "dfcount7 = df7['X'].count() #Get the count of X (number of entries)\n",
    "dfnoiseshortened7 = dfnoise7[dfnoise7[\"Noise\"].index < dfcount7] #Half the data to fit the full dataframe\n",
    "df7['Noise'] = dfnoiseshortened7 # add noise to full dataframe\n",
    "XcombinedNoise7 =  df7['Noise'] + df7['X'] # add noise to x\n",
    "df7['xNoise'] = XcombinedNoise7 #add Xnoise to dataframe"
   ]
  },
  {
   "cell_type": "markdown",
   "metadata": {},
   "source": [
    "# Part 3: Predicting the Robot"
   ]
  },
  {
   "cell_type": "markdown",
   "metadata": {},
   "source": [
    "## Step Function Perceptron"
   ]
  },
  {
   "cell_type": "code",
   "execution_count": 209,
   "metadata": {
    "scrolled": true
   },
   "outputs": [],
   "source": [
    "def SelectedEpoch(Epochnum,PerceptonOutput): #Method to select and add to dataframe which epoch to plot\n",
    "    totalvalues = df1['X'].count() #Get the count of the x values of the dataframe\n",
    "    count = -1 # initialise count at -1 so you can start writing at 0\n",
    "    latch = False # set latch to false\n",
    "    ChosenEpoch = [] # declare chosen Epoch\n",
    "    delete = Epochnum*totalvalues - totalvalues #Declare the startpoint of epoch\n",
    "    delete2 = Epochnum*totalvalues #Declare finish point of epoch\n",
    "    for x in PerceptonOutput: # loop around the data outputted by the perceptron\n",
    "        count = count +1 # increase count\n",
    "        if count == delete: # if count is at startpoint set latch to true so it can write\n",
    "            latch = True \n",
    "        if count == delete2: # if count is at finishpoint set latch to False so it cant write\n",
    "            latch = False \n",
    "        if latch == True: # if latch is true append the x value to the epoch array \n",
    "            ChosenEpoch.append(x) \n",
    "    return ChosenEpoch #return the data from that epoch\n",
    "\n",
    "    \n",
    "def train_weights_step(array, lr, Epochs2): #Method for sigmoid activation\n",
    "    Weight = [-0.10,random.uniform(0,1),random.uniform(0,1),random.uniform(0,1)] # initialise 3 weights and 3 bias weights \n",
    "    for Epoch2 in range(Epochs2): #for each epoch\n",
    "        sumerr = 0.0\n",
    "        if (Epoch2 == 0  ):\n",
    "            Output = [] #delcare the output array\n",
    "            errorarr = []\n",
    "            updated_weight = []\n",
    "            count = 0 # Declare position 0 \n",
    "            for x in array:# for each value in epoch array\n",
    "                updated_weight.append([Weight[0],Weight[1],Weight[2],Weight[3]])\n",
    "                prediction = predict(x,Weight) # complete prediction on result\n",
    "                if count == 0: # change target for weight\n",
    "                    Target = x[2]\n",
    "                elif count==1: # change target for weight\n",
    "                    Target = x[1]\n",
    "                else: #change target for weight\n",
    "                    Target = x[0]\n",
    "                delta = Target - prediction #Calculate delta\n",
    "                error = delta # set error to delta\n",
    "                errorarr.append(error)\n",
    "                Output.append(prediction) # append prediction \n",
    "                Weight_change_bias= -x[0]*lr*error # calculate new bias weight\n",
    "                Weight[0] = Weight[0] + Weight_change_bias # change the bias weight\n",
    "                Weight_change= -x[0]*lr*error # calculate weight change \n",
    "                for i in range(len(x)):  # for each item in the tuple update weigt\n",
    "                    Weight[i + 1] = Weight[i +1] + Weight_change #update weight\n",
    "                sumerr +=error**2\n",
    "                count = count + 1 # increment count\n",
    "            print('>epoch=%d, lrate=%.3f, error=%.3f' % (Epoch2, lr, sumerr))\n",
    "        else: \n",
    "            countweight = 0\n",
    "            for x in array:# for each value in epoch array            \n",
    "                prediction = predict(x,updated_weight[countweight]) # complete prediction on result\n",
    "                if count == 0: # change target for weight\n",
    "                    Target = x[2]\n",
    "                elif count==1: # change target for weight\n",
    "                    Target = x[1]\n",
    "                else: #change target for weight\n",
    "                    Target = x[0]\n",
    "                delta = Target - prediction #Calculate delta\n",
    "                error = delta # set error to delta\n",
    "                errorarr.append(error)\n",
    "                Output.append(prediction) # append prediction \n",
    "                Weight_change_bias= -x[0]*lr*error # calculate new bias weight\n",
    "                updated_weight[countweight][0] = updated_weight[countweight][0] + Weight_change_bias # change the bias weight\n",
    "                Weight_change= -x[0]*lr*error # calculate weight change \n",
    "                for i in range(len(x)):  # for each item in the tuple update weigt\n",
    "                    updated_weight[countweight][i+1] = updated_weight[countweight][i+1] + Weight_change #update weight\n",
    "                countweight = countweight +1\n",
    "                sumerr +=error**2\n",
    "                count = count + 1 # increment count\n",
    "            print('>epoch=%d, lrate=%.3f, error=%.3f' % (Epoch2, lr, sumerr))\n",
    "    return Output #return data    \n",
    "    \n",
    "\n",
    "def predict(xn2, weightn2): #Declare the perceptron \n",
    "    activation = 0  #set the default activation to 0 \n",
    "    activation = weightn2[0]\n",
    "    for i in range(len(xn2)-1):\n",
    "        activation = activation + weightn2[i + 1]*xn2[i] #times the wight by x and add it to activation \n",
    "    return 1 if activation <= 0 else 0 # if the result of the activation is greater than or equal to0.5 return true else false\n",
    "\n",
    "def Tuple_converter(array): #convert array into a tuple set \n",
    "    Tuplearray = [] #declare array for results\n",
    "    count = 0 # set count to 0\n",
    "    while count < len(array): #if count is less than the array length loop\n",
    "        if count == 0: #if count is at 0 add 2 0s to the first entry\n",
    "            Tuplearray.append([0,0,array[count]]) \n",
    "        elif count == 1: #if count is 1 add 1 0 to the second entry\n",
    "            Tuplearray.append([0,array[count],array[count-1]])\n",
    "        else: #else extablish a pattern where the first result is the last result in tuples\n",
    "            Tuplearray.append([array[count],array[count-1],array[count-2]])\n",
    "        count = count + 1 # increase count \n",
    "    return Tuplearray # return tuple "
   ]
  },
  {
   "cell_type": "code",
   "execution_count": 218,
   "metadata": {},
   "outputs": [
    {
     "name": "stdout",
     "output_type": "stream",
     "text": [
      ">epoch=0, lrate=0.010, error=2158.768\n",
      ">epoch=1, lrate=0.010, error=2158.937\n",
      ">epoch=2, lrate=0.010, error=2157.405\n",
      ">epoch=3, lrate=0.010, error=2155.893\n",
      ">epoch=4, lrate=0.010, error=2154.411\n",
      ">epoch=5, lrate=0.010, error=2152.987\n",
      ">epoch=6, lrate=0.010, error=2150.839\n",
      ">epoch=7, lrate=0.010, error=2149.455\n",
      ">epoch=8, lrate=0.010, error=2146.760\n",
      ">epoch=9, lrate=0.010, error=2146.760\n"
     ]
    },
    {
     "data": {
      "image/png": "[encoded data removed]",
      "text/plain": [
       "<Figure size 432x288 with 1 Axes>"
      ]
     },
     "metadata": {
      "needs_background": "light"
     },
     "output_type": "display_data"
    }
   ],
   "source": [
    "x1 = Tuple_converter(df1['xNoise'])\n",
    "Stepfunction = train_weights_step(x1,0.01,10)\n",
    "stepfunction2 = SelectedEpoch(10,Stepfunction)\n",
    "df1['StepFunction'] = stepfunction2\n",
    "t = sns.lineplot(x=\"T\", y=\"X\", data=df1)  #plot actual\n",
    "t2 = sns.lineplot(x=\"T\", y=\"StepFunction\", data=df1) #plot predicted\n"
   ]
  },
  {
   "cell_type": "markdown",
   "metadata": {},
   "source": [
    "## Sigmoid Function Perceptron"
   ]
  },
  {
   "cell_type": "code",
   "execution_count": 175,
   "metadata": {},
   "outputs": [],
   "source": [
    "def sigmoid_activation(val): #declare sigmoid activation function\n",
    "    sigmoid = 1/1+np.exp(-val) # Calculate sigmoid\n",
    "    return sigmoid #return result\n",
    "\n",
    "def train_weights_sigmoid(array, lr, Epochs2): #Method for sigmoid activation\n",
    "    Weight = [-0.10,random.uniform(0,1),random.uniform(0,1),random.uniform(0,1)] # initialise 3 weights and 3 bias weights \n",
    "    for Epoch2 in range(Epochs2): #for each epoch\n",
    "        sumerr = 0.0\n",
    "        if (Epoch2 == 0  ):\n",
    "            Output = [] #delcare the output array\n",
    "            errorarr = []\n",
    "            updated_weight = []\n",
    "            count = 0 # Declare position 0 \n",
    "            for x in array:# for each value in epoch array\n",
    "                updated_weight.append([Weight[0],Weight[1],Weight[2],Weight[3]])\n",
    "                prediction, netwrk_sum = predict3(x,Weight) # complete prediction on result\n",
    "                if count == 0: # change target for weight\n",
    "                    Target = x[2]\n",
    "                elif count==1: # change target for weight\n",
    "                    Target = x[1]\n",
    "                else: #change target for weight\n",
    "                    Target = x[0]\n",
    "                delta = Target - prediction #Calculate delta\n",
    "                error = delta # set error to delta\n",
    "                errorarr.append(error)\n",
    "                Output.append(prediction) # append prediction \n",
    "                Weight_change_bias= -x[0]*lr*error # calculate new bias weight\n",
    "                Weight[0] = Weight[0] + Weight_change_bias # change the bias weight\n",
    "                Weight_change= -x[0]*lr*error # calculate weight change \n",
    "                for i in range(len(x)):  # for each item in the tuple update weigt\n",
    "                    Weight[i + 1] = Weight[i +1] + Weight_change #update weight\n",
    "                sumerr +=error**2\n",
    "                count = count + 1 # increment count\n",
    "            print('>epoch=%d, lrate=%.3f, error=%.3f' % (Epoch2, lr, sumerr))\n",
    "        else: \n",
    "            countweight = 0\n",
    "            for x in array:# for each value in epoch array            \n",
    "                prediction, netwrk_sum = predict3(x,updated_weight[countweight]) # complete prediction on result\n",
    "                if count == 0: # change target for weight\n",
    "                    Target = x[2]\n",
    "                elif count==1: # change target for weight\n",
    "                    Target = x[1]\n",
    "                else: #change target for weight\n",
    "                    Target = x[0]\n",
    "                delta = Target - prediction #Calculate delta\n",
    "                error = delta # set error to delta\n",
    "                errorarr.append(error)\n",
    "                Output.append(prediction) # append prediction \n",
    "                Weight_change_bias= -x[0]*lr*error # calculate new bias weight\n",
    "                updated_weight[countweight][0] = updated_weight[countweight][0] + Weight_change_bias # change the bias weight\n",
    "                Weight_change= -x[0]*lr*error # calculate weight change \n",
    "                for i in range(len(x)):  # for each item in the tuple update weigt\n",
    "                    updated_weight[countweight][i+1] = updated_weight[countweight][i+1] + Weight_change #update weight\n",
    "                countweight = countweight +1\n",
    "                sumerr +=error**2\n",
    "                count = count + 1 # increment count\n",
    "            print('>epoch=%d, lrate=%.3f, error=%.3f' % (Epoch2, lr, sumerr))\n",
    "    return Output,errorarr #return data\n",
    "\n",
    "\n",
    "def predict3(noise2,weights2):\n",
    "    net_sum = 0\n",
    "    net_sum = weights2[0]\n",
    "    for i in range(len(noise2)-1):\n",
    "        net_sum += weights2[i + 1] * noise2[i]\n",
    "    activation2 = sigmoid_activation(net_sum)\n",
    "    return activation2, net_sum"
   ]
  },
  {
   "cell_type": "code",
   "execution_count": 187,
   "metadata": {},
   "outputs": [
    {
     "name": "stdout",
     "output_type": "stream",
     "text": [
      "2\n",
      ">epoch=0, lrate=0.010, error=121.075\n",
      ">epoch=1, lrate=0.010, error=121.430\n"
     ]
    },
    {
     "data": {
      "image/png": "[encoded data removed]",
      "text/plain": [
       "<Figure size 432x288 with 1 Axes>"
      ]
     },
     "metadata": {
      "needs_background": "light"
     },
     "output_type": "display_data"
    }
   ],
   "source": [
    "x12 = Tuple_converter(df1['xNoise'])\n",
    "Sigmoidfunction2,tttt = train_weights_sigmoid(x12,0.01,2)\n",
    "Sigmoidfunction3 = SelectedEpoch(2,Sigmoidfunction2)\n",
    "df1['Sigmoidfunction12'] = Sigmoidfunction3\n",
    "t = sns.lineplot(x=\"T\", y=\"X\", data=df1)  #plot actual\n",
    "t2 = sns.lineplot(x=\"T\", y=\"Sigmoidfunction12\", data=df1) #plot predicted"
   ]
  },
  {
   "cell_type": "markdown",
   "metadata": {},
   "source": [
    "## Learning Rates Sigmoid Perceptron"
   ]
  },
  {
   "cell_type": "code",
   "execution_count": 200,
   "metadata": {},
   "outputs": [
    {
     "name": "stdout",
     "output_type": "stream",
     "text": [
      "1\n",
      ">epoch=0, lrate=0.010, error=115.388\n"
     ]
    },
    {
     "data": {
      "image/png": "[encoded data removed]",
      "text/plain": [
       "<Figure size 432x288 with 1 Axes>"
      ]
     },
     "metadata": {
      "needs_background": "light"
     },
     "output_type": "display_data"
    }
   ],
   "source": [
    "xLR001 = Tuple_converter(df1['xNoise'])\n",
    "SigmoidPerceptronLR001,ttt = train_weights_sigmoid(xLR001,0.01,1) #Train Perceptron using learning rate 0.01\n",
    "df1['SigmoidPerceptronLR001'] = SigmoidPerceptronLR001 # add learning rate 0.01 to dataframe\n",
    "Noiseplt = sns.lineplot(x=\"T\", y=\"X\", data=df1)  # plot actual\n",
    "Stepplt = sns.lineplot(x=\"T\", y=\"SigmoidPerceptronLR001\", data=df1) #plot predicted "
   ]
  },
  {
   "cell_type": "code",
   "execution_count": 201,
   "metadata": {},
   "outputs": [
    {
     "name": "stdout",
     "output_type": "stream",
     "text": [
      "1\n",
      ">epoch=0, lrate=0.100, error=4219.829\n"
     ]
    },
    {
     "data": {
      "image/png": "[encoded data removed]",
      "text/plain": [
       "<Figure size 432x288 with 1 Axes>"
      ]
     },
     "metadata": {
      "needs_background": "light"
     },
     "output_type": "display_data"
    }
   ],
   "source": [
    "xLR01 = Tuple_converter(df1['xNoise'])\n",
    "SigmoidPerceptronLR01,tttt = train_weights_sigmoid(xLR01,0.1,1) #Train Perceptron using learning rate 0.1\n",
    "df1['SigmoidPerceptronLR01'] = SigmoidPerceptronLR01 # add learning rate 0.1 to dataframe\n",
    "Noiseplt = sns.lineplot(x=\"T\", y=\"X\", data=df1)  # plot actual\n",
    "Stepplt = sns.lineplot(x=\"T\", y=\"SigmoidPerceptronLR01\", data=df1) #plot predicted "
   ]
  },
  {
   "cell_type": "code",
   "execution_count": 27,
   "metadata": {},
   "outputs": [
    {
     "name": "stdout",
     "output_type": "stream",
     "text": [
      "1\n",
      ">epoch=0, lrate=0.001, error=502.926\n"
     ]
    },
    {
     "data": {
      "image/png": "[encoded data removed]",
      "text/plain": [
       "<Figure size 432x288 with 1 Axes>"
      ]
     },
     "metadata": {
      "needs_background": "light"
     },
     "output_type": "display_data"
    }
   ],
   "source": [
    "xLR025 = Tuple_converter(df1['xNoise'])\n",
    "SigmoidPerceptronLR025,ttttt = train_weights_sigmoid(xLR025,0.001,1) #Train Perceptron using learning rate 0.25\n",
    "df1['SigmoidPerceptronLR0001'] = SigmoidPerceptronLR025 # add learning rate 0.25 to dataframe\n",
    "Noiseplt = sns.lineplot(x=\"T\", y=\"X\", data=df1)  # plot actual\n",
    "Stepplt = sns.lineplot(x=\"T\", y=\"SigmoidPerceptronLR0001\", data=df1) #plot predicted "
   ]
  },
  {
   "cell_type": "code",
   "execution_count": null,
   "metadata": {},
   "outputs": [],
   "source": []
  },
  {
   "cell_type": "code",
   "execution_count": null,
   "metadata": {},
   "outputs": [],
   "source": []
  }
 ],
 "metadata": {
  "kernelspec": {
   "display_name": "Python 3",
   "language": "python",
   "name": "python3"
  },
  "language_info": {
   "codemirror_mode": {
    "name": "ipython",
    "version": 3
   },
   "file_extension": ".py",
   "mimetype": "text/x-python",
   "name": "python",
   "nbconvert_exporter": "python",
   "pygments_lexer": "ipython3",
   "version": "3.7.4"
  }
 },
 "nbformat": 4,
 "nbformat_minor": 2
}
