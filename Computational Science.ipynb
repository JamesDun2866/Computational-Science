{
 "cells": [
  {
   "cell_type": "markdown",
   "metadata": {},
   "source": [
    "# Eulers Method"
   ]
  },
  {
   "cell_type": "code",
   "execution_count": 1,
   "metadata": {},
   "outputs": [],
   "source": [
    "def Equation(U,x):\n",
    "    f = -(x + x) + U + U\n",
    "    return f"
   ]
  },
  {
   "cell_type": "code",
   "execution_count": 2,
   "metadata": {
    "scrolled": false
   },
   "outputs": [
    {
     "name": "stdout",
     "output_type": "stream",
     "text": [
      "Enter h,xn\n",
      "0.2\n",
      "5\n",
      "0.2 0.8 0.2\n",
      "0.4 1.28 0.2\n",
      "0.6000000000000001 1.568 0.2\n",
      "0.8 1.7408000000000001 0.2\n",
      "1.0 1.8444800000000001 0.2\n",
      "1.2 1.9066880000000002 0.2\n",
      "1.4 1.9440128 0.2\n",
      "1.5999999999999999 1.96640768 0.2\n",
      "1.7999999999999998 1.979844608 0.2\n",
      "1.9999999999999998 1.9879067648 0.2\n",
      "2.1999999999999997 1.99274405888 0.2\n",
      "2.4 1.9956464353280001 0.2\n",
      "2.6 1.9973878611968001 0.2\n",
      "2.8000000000000003 1.99843271671808 0.2\n",
      "3.0000000000000004 1.999059630030848 0.2\n",
      "3.2000000000000006 1.9994357780185088 0.2\n",
      "3.400000000000001 1.9996614668111052 0.2\n",
      "3.600000000000001 1.9997968800866632 0.2\n",
      "3.800000000000001 1.999878128051998 0.2\n",
      "4.000000000000001 1.9999268768311989 0.2\n",
      "4.200000000000001 1.9999561260987193 0.2\n",
      "4.400000000000001 1.9999736756592317 0.2\n",
      "4.600000000000001 1.999984205395539 0.2\n",
      "4.800000000000002 1.9999905232373234 0.2\n",
      "5.000000000000002 1.9999943139423941 0.2\n"
     ]
    }
   ],
   "source": [
    "print (\"Enter h,xn\")\n",
    "\n",
    "a = 0 #inital pos\n",
    "b = 0 # initial pos\n",
    "h = float (input()) # step size\n",
    "T = float (input()) #time\n",
    "\n",
    "t =a #time at pos 0\n",
    "x= b  #inital on x\n",
    "\n",
    "while t<=T: #while time < initial time\n",
    "    if (t<0 or t<=5):\n",
    "        U = 2\n",
    "    elif (t<5 or t<=10):\n",
    "        U = 1\n",
    "    elif (t<10 or t<=15):\n",
    "        U =3\n",
    "    \n",
    "    k = h*Equation(U,x) #perform equation\n",
    "    x = x +k # add predition \n",
    "    t = t+h #increase step \n",
    "    print(t,x,h) # print values "
   ]
  },
  {
   "cell_type": "code",
   "execution_count": null,
   "metadata": {},
   "outputs": [],
   "source": []
  }
 ],
 "metadata": {
  "kernelspec": {
   "display_name": "Python 3",
   "language": "python",
   "name": "python3"
  },
  "language_info": {
   "codemirror_mode": {
    "name": "ipython",
    "version": 3
   },
   "file_extension": ".py",
   "mimetype": "text/x-python",
   "name": "python",
   "nbconvert_exporter": "python",
   "pygments_lexer": "ipython3",
   "version": "3.7.3"
  }
 },
 "nbformat": 4,
 "nbformat_minor": 2
}
