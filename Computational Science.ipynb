{
 "cells": [
  {
   "cell_type": "markdown",
   "metadata": {},
   "source": [
    "# Eulers Method"
   ]
  },
  {
   "cell_type": "code",
   "execution_count": 22,
   "metadata": {},
   "outputs": [],
   "source": [
    "def Equation(U,x):\n",
    "    f = -(x + x) + U + U\n",
    "    return f"
   ]
  },
  {
   "cell_type": "code",
   "execution_count": 26,
   "metadata": {
    "scrolled": false
   },
   "outputs": [
    {
     "name": "stdout",
     "output_type": "stream",
     "text": [
      "Enter h,xn\n",
      "0.2\n",
      "5\n",
      "0.2 0.08000000000000002\n",
      "0.4 0.128\n",
      "0.6000000000000001 0.1568\n",
      "0.8 0.17408\n",
      "1.0 0.184448\n",
      "1.2 0.1906688\n",
      "1.4 0.19440128\n",
      "1.5999999999999999 0.19664076800000002\n",
      "1.7999999999999998 0.1979844608\n",
      "1.9999999999999998 0.19879067648\n",
      "2.1999999999999997 0.19927440588800002\n",
      "2.4 0.1995646435328\n",
      "2.6 0.19973878611968002\n",
      "2.8000000000000003 0.19984327167180801\n",
      "3.0000000000000004 0.1999059630030848\n",
      "3.2000000000000006 0.19994357780185087\n",
      "3.400000000000001 0.19996614668111054\n",
      "3.600000000000001 0.19997968800866633\n",
      "3.800000000000001 0.1999878128051998\n",
      "4.000000000000001 0.1999926876831199\n",
      "4.200000000000001 0.19999561260987195\n",
      "4.400000000000001 0.19999736756592318\n",
      "4.600000000000001 0.1999984205395539\n",
      "4.800000000000002 0.19999905232373236\n",
      "5.000000000000002 0.19999943139423942\n"
     ]
    }
   ],
   "source": [
    "print (\"Enter h,xn\")\n",
    "\n",
    "a = 0 #inital pos\n",
    "b = 0 # initial pos\n",
    "h = float (input()) # step size\n",
    "T = float (input()) #time\n",
    "\n",
    "t =a #time at pos 0\n",
    "x= b  #inital on x\n",
    "\n",
    "while t<=T: #while time < initial time\n",
    "    k = h*Equation(h,x) #perform equation\n",
    "    x = x +k # add predition \n",
    "    t = t+h #increase step \n",
    "    print(t,x) # print values "
   ]
  },
  {
   "cell_type": "code",
   "execution_count": null,
   "metadata": {},
   "outputs": [],
   "source": []
  }
 ],
 "metadata": {
  "kernelspec": {
   "display_name": "Python 3",
   "language": "python",
   "name": "python3"
  },
  "language_info": {
   "codemirror_mode": {
    "name": "ipython",
    "version": 3
   },
   "file_extension": ".py",
   "mimetype": "text/x-python",
   "name": "python",
   "nbconvert_exporter": "python",
   "pygments_lexer": "ipython3",
   "version": "3.7.3"
  }
 },
 "nbformat": 4,
 "nbformat_minor": 2
}
