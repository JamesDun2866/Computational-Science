{
 "cells": [
  {
   "cell_type": "markdown",
   "metadata": {},
   "source": [
    "# Eulers Method"
   ]
  },
  {
   "cell_type": "code",
   "execution_count": 13,
   "metadata": {},
   "outputs": [],
   "source": [
    "def func( x, y ): \n",
    "    return (x + y + x * y) # Currently unsure about maths here, C integration has it as f-2x+2U bnut online as x+y+x*y\n",
    "      \n",
    "def euler( x0, y, h, x ): \n",
    "    temp = -0\n",
    "    \n",
    "    while x0 < x: \n",
    "        temp = y #Temp store y as 0\n",
    "        y = y + h * func(x0, y) \n",
    "        x0 = x0 + h \n",
    "\n",
    "    print(\"Approximate solution at x = \",x, \" is \", \"%.6f\"% y) "
   ]
  },
  {
   "cell_type": "code",
   "execution_count": 18,
   "metadata": {},
   "outputs": [
    {
     "name": "stdout",
     "output_type": "stream",
     "text": [
      "Initial Conditions (X)\n",
      "0\n",
      "Initial Conditions (Y)\n",
      "1.5\n",
      "Step Size\n",
      "1\n",
      "Value for approximation\n",
      "10\n",
      "Approximate solution at x =  10.0  is  71120487.000000\n"
     ]
    }
   ],
   "source": [
    "print (\"Initial Conditions (X)\") #Enter Varibles\n",
    "x0 = float (input())\n",
    "print (\"Initial Conditions (Y)\")\n",
    "y0 = float (input())\n",
    "print(\"Step Size\")\n",
    "h = float (input())\n",
    "print(\"Value for approximation\")\n",
    "x = float (input())\n",
    "\n",
    "euler (x0,y0,h,x)\n",
    "\n",
    "    "
   ]
  },
  {
   "cell_type": "code",
   "execution_count": null,
   "metadata": {},
   "outputs": [],
   "source": []
  }
 ],
 "metadata": {
  "kernelspec": {
   "display_name": "Python 3",
   "language": "python",
   "name": "python3"
  },
  "language_info": {
   "codemirror_mode": {
    "name": "ipython",
    "version": 3
   },
   "file_extension": ".py",
   "mimetype": "text/x-python",
   "name": "python",
   "nbconvert_exporter": "python",
   "pygments_lexer": "ipython3",
   "version": "3.7.4"
  }
 },
 "nbformat": 4,
 "nbformat_minor": 2
}
